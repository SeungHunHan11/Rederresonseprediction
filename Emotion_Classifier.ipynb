{
 "cells": [
  {
   "cell_type": "markdown",
   "id": "7e9e7757",
   "metadata": {},
   "source": [
    "# STAT221 Final Project Code\n",
    "\n",
    "## 2017150470 Seung Hun Han \n"
   ]
  },
  {
   "cell_type": "code",
   "execution_count": 1,
   "id": "45425dd5",
   "metadata": {
    "ExecuteTime": {
     "end_time": "2022-06-06T04:03:45.178374Z",
     "start_time": "2022-06-06T04:03:32.196926Z"
    }
   },
   "outputs": [
    {
     "name": "stderr",
     "output_type": "stream",
     "text": [
      "C:\\Users\\icako\\anaconda3\\envs\\py\\lib\\site-packages\\numpy\\_distributor_init.py:30: UserWarning: loaded more than 1 DLL from .libs:\n",
      "C:\\Users\\icako\\anaconda3\\envs\\py\\lib\\site-packages\\numpy\\.libs\\libopenblas.EL2C6PLE4ZYW3ECEVIV3OXXGRN2NRFM2.gfortran-win_amd64.dll\n",
      "C:\\Users\\icako\\anaconda3\\envs\\py\\lib\\site-packages\\numpy\\.libs\\libopenblas.XWYDX2IKJW2NMTWSFYNGFUWKQU3LYTCZ.gfortran-win_amd64.dll\n",
      "  warnings.warn(\"loaded more than 1 DLL from .libs:\"\n",
      "C:\\Users\\icako\\anaconda3\\envs\\py\\lib\\site-packages\\tqdm\\auto.py:22: TqdmWarning: IProgress not found. Please update jupyter and ipywidgets. See https://ipywidgets.readthedocs.io/en/stable/user_install.html\n",
      "  from .autonotebook import tqdm as notebook_tqdm\n"
     ]
    }
   ],
   "source": [
    "import requests\n",
    "import selenium\n",
    "import os\n",
    "import pandas as pd\n",
    "import selenium\n",
    "from selenium.webdriver import *\n",
    "\n",
    "from selenium import webdriver\n",
    "import time\n",
    "import sys\n",
    "from bs4 import BeautifulSoup\n",
    "import urllib.request\n",
    "import requests\n",
    "from lxml import etree, html\n",
    "from tqdm import tqdm\n",
    "import torch\n",
    "import torch.nn as nn\n",
    "import numpy as np\n",
    "\n",
    "chrome_driver = 'C:/chromedriver.exe'"
   ]
  },
  {
   "cell_type": "code",
   "execution_count": 2,
   "id": "3d803406",
   "metadata": {
    "ExecuteTime": {
     "end_time": "2022-06-06T04:03:46.486507Z",
     "start_time": "2022-06-06T04:03:45.182363Z"
    }
   },
   "outputs": [],
   "source": [
    "device = torch.device('cuda') if torch.cuda.is_available() else torch.device(\n",
    "    'cpu')"
   ]
  },
  {
   "cell_type": "code",
   "execution_count": 3,
   "id": "c181837e",
   "metadata": {
    "ExecuteTime": {
     "end_time": "2022-06-06T04:03:46.501465Z",
     "start_time": "2022-06-06T04:03:46.491488Z"
    }
   },
   "outputs": [],
   "source": [
    "#device=torch.device('cpu')"
   ]
  },
  {
   "cell_type": "code",
   "execution_count": 4,
   "id": "6fae81bc",
   "metadata": {
    "ExecuteTime": {
     "end_time": "2022-06-06T04:03:46.579373Z",
     "start_time": "2022-06-06T04:03:46.515425Z"
    }
   },
   "outputs": [],
   "source": [
    "import random\n",
    "\n",
    "def seed_everything(seed):\n",
    "    random.seed(seed)\n",
    "    os.environ['PYTHONHASHSEED'] = str(seed)\n",
    "    np.random.seed(seed)\n",
    "    torch.manual_seed(seed)\n",
    "    torch.cuda.manual_seed(seed)\n",
    "    torch.backends.cudnn.deterministic = True\n",
    "    torch.backends.cudnn.benchmark = True\n",
    "\n",
    "\n",
    "seed_everything(1998)"
   ]
  },
  {
   "cell_type": "code",
   "execution_count": 5,
   "id": "03cb998f",
   "metadata": {
    "ExecuteTime": {
     "end_time": "2022-06-06T04:03:46.594214Z",
     "start_time": "2022-06-06T04:03:46.584240Z"
    }
   },
   "outputs": [],
   "source": [
    "sys.path.append('./NewsCrawler/')"
   ]
  },
  {
   "cell_type": "code",
   "execution_count": 6,
   "id": "6f171ced",
   "metadata": {
    "ExecuteTime": {
     "end_time": "2022-06-06T04:04:22.932808Z",
     "start_time": "2022-06-06T04:03:46.600215Z"
    }
   },
   "outputs": [],
   "source": [
    "from Crawling import content_crawling, crawling\n",
    "from Processing import Processing, Transform, cleanse, padding"
   ]
  },
  {
   "cell_type": "code",
   "execution_count": 7,
   "id": "fa9532d7",
   "metadata": {
    "ExecuteTime": {
     "end_time": "2022-06-06T04:04:22.948724Z",
     "start_time": "2022-06-06T04:04:22.937617Z"
    }
   },
   "outputs": [],
   "source": [
    "craw=crawling(head='https://sports.news.naver.com/wfootball/news/index?page=',\n",
    "             start_date='2021-08-01',end_date='2022-05-23') # Scraping function"
   ]
  },
  {
   "cell_type": "code",
   "execution_count": 8,
   "id": "d8110dd3",
   "metadata": {
    "ExecuteTime": {
     "end_time": "2022-06-06T04:04:22.996459Z",
     "start_time": "2022-06-06T04:04:22.954942Z"
    },
    "scrolled": true
   },
   "outputs": [],
   "source": [
    "dataset = pd.read_pickle('./NewsCrawler/Combined_Dataset.pkl') # Read data set"
   ]
  },
  {
   "cell_type": "code",
   "execution_count": 21,
   "id": "0cafbd30",
   "metadata": {
    "ExecuteTime": {
     "end_time": "2022-06-04T01:49:04.152639Z",
     "start_time": "2022-06-04T01:49:04.108416Z"
    },
    "scrolled": true
   },
   "outputs": [
    {
     "data": {
      "text/plain": [
       "0"
      ]
     },
     "execution_count": 21,
     "metadata": {},
     "output_type": "execute_result"
    }
   ],
   "source": [
    "sum(dataset.drop_duplicates()['Total_reaction']==0) #remove duplicates"
   ]
  },
  {
   "cell_type": "code",
   "execution_count": 9,
   "id": "d399764c",
   "metadata": {
    "ExecuteTime": {
     "end_time": "2022-06-01T08:57:49.821138Z",
     "start_time": "2022-06-01T08:57:49.763292Z"
    },
    "scrolled": true
   },
   "outputs": [
    {
     "data": {
      "text/html": [
       "<div>\n",
       "<style scoped>\n",
       "    .dataframe tbody tr th:only-of-type {\n",
       "        vertical-align: middle;\n",
       "    }\n",
       "\n",
       "    .dataframe tbody tr th {\n",
       "        vertical-align: top;\n",
       "    }\n",
       "\n",
       "    .dataframe thead th {\n",
       "        text-align: right;\n",
       "    }\n",
       "</style>\n",
       "<table border=\"1\" class=\"dataframe\">\n",
       "  <thead>\n",
       "    <tr style=\"text-align: right;\">\n",
       "      <th></th>\n",
       "      <th>Date</th>\n",
       "      <th>Title</th>\n",
       "      <th>Total_reaction</th>\n",
       "      <th>Good</th>\n",
       "      <th>Bad</th>\n",
       "    </tr>\n",
       "  </thead>\n",
       "  <tbody>\n",
       "    <tr>\n",
       "      <th>0</th>\n",
       "      <td>2022-02-21</td>\n",
       "      <td>토트넘, '유베 커넥션' 만든다...이적료 '0원'에 No.10 영입 착수</td>\n",
       "      <td>217.0</td>\n",
       "      <td>192.0</td>\n",
       "      <td>25.0</td>\n",
       "    </tr>\n",
       "    <tr>\n",
       "      <th>1</th>\n",
       "      <td>2022-02-21</td>\n",
       "      <td>케인, 토트넘 종신 '뼈 묻는다'…우승만 할 수 있다면</td>\n",
       "      <td>131.0</td>\n",
       "      <td>70.0</td>\n",
       "      <td>61.0</td>\n",
       "    </tr>\n",
       "    <tr>\n",
       "      <th>0</th>\n",
       "      <td>2022-02-21</td>\n",
       "      <td>'팔꿈치 공격→상대 출혈' 축구 대신 전투 치른 맨유 MF…\"퇴장 피한 것 행운\"</td>\n",
       "      <td>101.0</td>\n",
       "      <td>22.0</td>\n",
       "      <td>79.0</td>\n",
       "    </tr>\n",
       "    <tr>\n",
       "      <th>1</th>\n",
       "      <td>2022-02-21</td>\n",
       "      <td>'리그 8위' 무리뉴, 애제자 부른다...토트넘은 이적료 '400억' 책정</td>\n",
       "      <td>802.0</td>\n",
       "      <td>142.0</td>\n",
       "      <td>660.0</td>\n",
       "    </tr>\n",
       "    <tr>\n",
       "      <th>2</th>\n",
       "      <td>2022-02-21</td>\n",
       "      <td>'종신맨유' 선언? 데 헤아 \"맨유 떠날 거라곤 생각하지 않아\"</td>\n",
       "      <td>118.0</td>\n",
       "      <td>107.0</td>\n",
       "      <td>11.0</td>\n",
       "    </tr>\n",
       "  </tbody>\n",
       "</table>\n",
       "</div>"
      ],
      "text/plain": [
       "        Date                                          Title  Total_reaction  \\\n",
       "0 2022-02-21      토트넘, '유베 커넥션' 만든다...이적료 '0원'에 No.10 영입 착수           217.0   \n",
       "1 2022-02-21                 케인, 토트넘 종신 '뼈 묻는다'…우승만 할 수 있다면           131.0   \n",
       "0 2022-02-21  '팔꿈치 공격→상대 출혈' 축구 대신 전투 치른 맨유 MF…\"퇴장 피한 것 행운\"           101.0   \n",
       "1 2022-02-21      '리그 8위' 무리뉴, 애제자 부른다...토트넘은 이적료 '400억' 책정           802.0   \n",
       "2 2022-02-21            '종신맨유' 선언? 데 헤아 \"맨유 떠날 거라곤 생각하지 않아\"           118.0   \n",
       "\n",
       "    Good    Bad  \n",
       "0  192.0   25.0  \n",
       "1   70.0   61.0  \n",
       "0   22.0   79.0  \n",
       "1  142.0  660.0  \n",
       "2  107.0   11.0  "
      ]
     },
     "execution_count": 9,
     "metadata": {},
     "output_type": "execute_result"
    }
   ],
   "source": [
    "dataset.head(5)"
   ]
  },
  {
   "cell_type": "code",
   "execution_count": null,
   "id": "aecf7ee9",
   "metadata": {
    "ExecuteTime": {
     "start_time": "2022-06-06T04:04:09.798Z"
    },
    "scrolled": true
   },
   "outputs": [
    {
     "name": "stdout",
     "output_type": "stream",
     "text": [
      "243  Duplicates removed\n",
      "0  Null data removed\n"
     ]
    }
   ],
   "source": [
    "pro = Processing(dataset, colname='Title')\n",
    "pro.preprocess() #Remove duplicates and null data\n",
    "x_list, y_list = pro.vectorize() #Tokenize and redefine target values"
   ]
  },
  {
   "cell_type": "code",
   "execution_count": 32,
   "id": "649fa0bf",
   "metadata": {
    "ExecuteTime": {
     "end_time": "2022-06-04T01:56:06.969721Z",
     "start_time": "2022-06-04T01:56:00.505006Z"
    }
   },
   "outputs": [],
   "source": [
    "import matplotlib.pyplot as plt\n",
    "import seaborn as sns"
   ]
  },
  {
   "cell_type": "code",
   "execution_count": 66,
   "id": "0cf0a9df",
   "metadata": {
    "ExecuteTime": {
     "end_time": "2022-06-04T02:04:29.612094Z",
     "start_time": "2022-06-04T02:04:29.388252Z"
    },
    "scrolled": true
   },
   "outputs": [
    {
     "data": {
      "text/plain": [
       "<AxesSubplot:xlabel='Emotion Category', ylabel='Count'>"
      ]
     },
     "execution_count": 66,
     "metadata": {},
     "output_type": "execute_result"
    },
    {
     "data": {
      "image/png": "[encoded data removed]",
      "text/plain": [
       "<Figure size 432x288 with 1 Axes>"
      ]
     },
     "metadata": {
      "needs_background": "light"
     },
     "output_type": "display_data"
    }
   ],
   "source": [
    "dd=pd.DataFrame(y_list)\n",
    "ddd=pd.DataFrame(dd.value_counts())\n",
    "ddd.index=['Positive','Negative','Neutral']\n",
    "ddd.plot(kind='bar',xlabel='Emotion Category',ylabel='Count',legend=False,rot=1)"
   ]
  },
  {
   "cell_type": "code",
   "execution_count": null,
   "id": "9e963745",
   "metadata": {
    "ExecuteTime": {
     "start_time": "2022-06-06T04:04:16.177Z"
    },
    "scrolled": true
   },
   "outputs": [],
   "source": [
    "T = Transform(x_list) \n",
    "x_list, vocab_size = T.tokenizing(3) #Remove tokens that appeared less than less than 3 times from the vectors\n",
    "x_list, y_list = cleanse(x_list, y_list) # Remove empty entries\n",
    "x_list_pad = padding(x_list, pad_size=11, manuel=False) # Maxpadding"
   ]
  },
  {
   "cell_type": "code",
   "execution_count": 12,
   "id": "09b191ba",
   "metadata": {
    "ExecuteTime": {
     "end_time": "2022-06-01T08:59:11.695183Z",
     "start_time": "2022-06-01T08:59:11.683220Z"
    }
   },
   "outputs": [],
   "source": [
    "for k in range(1,5):\n",
    "  x_list,vocab_size=T.tokenizing(k)"
   ]
  },
  {
   "cell_type": "code",
   "execution_count": 16,
   "id": "5fddb202",
   "metadata": {
    "ExecuteTime": {
     "end_time": "2022-06-01T04:00:29.815991Z",
     "start_time": "2022-06-01T04:00:29.783883Z"
    },
    "scrolled": false
   },
   "outputs": [
    {
     "data": {
      "text/plain": [
       "(15833, 15833)"
      ]
     },
     "execution_count": 16,
     "metadata": {},
     "output_type": "execute_result"
    }
   ],
   "source": [
    "len(x_list_pad), len(y_list)"
   ]
  },
  {
   "cell_type": "code",
   "execution_count": null,
   "id": "97467cd1",
   "metadata": {
    "ExecuteTime": {
     "end_time": "2022-05-31T12:15:37.635953Z",
     "start_time": "2022-05-31T12:15:37.635953Z"
    }
   },
   "outputs": [],
   "source": [
    "from Models import embed, LSTM\n",
    "from Model_Fitting import LSTM_Best\n",
    "\n",
    "embedding_opt = [50, 100, 150]\n",
    "hidden_opt = [50, 100, 150]\n",
    "layers_opt = [1, 2, 3]\n",
    "dic,test_x,test_y=LSTM_Best(vocab_size,  #LSTM hyperparameter tuning\n",
    "          embedding_opt,\n",
    "          hidden_opt,\n",
    "          layers_opt,\n",
    "          x_list_pad,\n",
    "          y_list,\n",
    "          nfolds=20,\n",
    "          nepochs=30)"
   ]
  },
  {
   "cell_type": "code",
   "execution_count": 14,
   "id": "07056da4",
   "metadata": {
    "ExecuteTime": {
     "end_time": "2022-06-01T06:30:16.392347Z",
     "start_time": "2022-06-01T06:30:16.357068Z"
    }
   },
   "outputs": [
    {
     "data": {
      "text/html": [
       "<div>\n",
       "<style scoped>\n",
       "    .dataframe tbody tr th:only-of-type {\n",
       "        vertical-align: middle;\n",
       "    }\n",
       "\n",
       "    .dataframe tbody tr th {\n",
       "        vertical-align: top;\n",
       "    }\n",
       "\n",
       "    .dataframe thead th {\n",
       "        text-align: right;\n",
       "    }\n",
       "</style>\n",
       "<table border=\"1\" class=\"dataframe\">\n",
       "  <thead>\n",
       "    <tr style=\"text-align: right;\">\n",
       "      <th></th>\n",
       "      <th>hidden_units</th>\n",
       "      <th>n_layers</th>\n",
       "      <th>loss_train</th>\n",
       "      <th>loss_val</th>\n",
       "      <th>acc_train</th>\n",
       "      <th>acc_val</th>\n",
       "    </tr>\n",
       "  </thead>\n",
       "  <tbody>\n",
       "    <tr>\n",
       "      <th>0</th>\n",
       "      <td>50</td>\n",
       "      <td>1</td>\n",
       "      <td>0.603808</td>\n",
       "      <td>0.603848</td>\n",
       "      <td>0.762752</td>\n",
       "      <td>0.762704</td>\n",
       "    </tr>\n",
       "    <tr>\n",
       "      <th>1</th>\n",
       "      <td>50</td>\n",
       "      <td>2</td>\n",
       "      <td>0.712952</td>\n",
       "      <td>0.674069</td>\n",
       "      <td>0.693423</td>\n",
       "      <td>0.715021</td>\n",
       "    </tr>\n",
       "    <tr>\n",
       "      <th>2</th>\n",
       "      <td>50</td>\n",
       "      <td>3</td>\n",
       "      <td>0.947004</td>\n",
       "      <td>0.939851</td>\n",
       "      <td>0.567449</td>\n",
       "      <td>0.571295</td>\n",
       "    </tr>\n",
       "    <tr>\n",
       "      <th>3</th>\n",
       "      <td>100</td>\n",
       "      <td>1</td>\n",
       "      <td>0.545076</td>\n",
       "      <td>0.545108</td>\n",
       "      <td>0.796967</td>\n",
       "      <td>0.796957</td>\n",
       "    </tr>\n",
       "    <tr>\n",
       "      <th>4</th>\n",
       "      <td>100</td>\n",
       "      <td>2</td>\n",
       "      <td>0.658554</td>\n",
       "      <td>0.618208</td>\n",
       "      <td>0.724336</td>\n",
       "      <td>0.746585</td>\n",
       "    </tr>\n",
       "    <tr>\n",
       "      <th>5</th>\n",
       "      <td>100</td>\n",
       "      <td>3</td>\n",
       "      <td>0.972176</td>\n",
       "      <td>0.972211</td>\n",
       "      <td>0.562246</td>\n",
       "      <td>0.562214</td>\n",
       "    </tr>\n",
       "    <tr>\n",
       "      <th>6</th>\n",
       "      <td>150</td>\n",
       "      <td>1</td>\n",
       "      <td>0.671885</td>\n",
       "      <td>0.671942</td>\n",
       "      <td>0.729800</td>\n",
       "      <td>0.729791</td>\n",
       "    </tr>\n",
       "    <tr>\n",
       "      <th>7</th>\n",
       "      <td>150</td>\n",
       "      <td>2</td>\n",
       "      <td>0.923146</td>\n",
       "      <td>0.919720</td>\n",
       "      <td>0.562507</td>\n",
       "      <td>0.562214</td>\n",
       "    </tr>\n",
       "    <tr>\n",
       "      <th>8</th>\n",
       "      <td>150</td>\n",
       "      <td>3</td>\n",
       "      <td>0.971697</td>\n",
       "      <td>0.971413</td>\n",
       "      <td>0.562279</td>\n",
       "      <td>0.562214</td>\n",
       "    </tr>\n",
       "    <tr>\n",
       "      <th>9</th>\n",
       "      <td>50</td>\n",
       "      <td>1</td>\n",
       "      <td>0.113136</td>\n",
       "      <td>0.113122</td>\n",
       "      <td>0.989347</td>\n",
       "      <td>0.989353</td>\n",
       "    </tr>\n",
       "  </tbody>\n",
       "</table>\n",
       "</div>"
      ],
      "text/plain": [
       "   hidden_units  n_layers  loss_train  loss_val  acc_train   acc_val\n",
       "0            50         1    0.603808  0.603848   0.762752  0.762704\n",
       "1            50         2    0.712952  0.674069   0.693423  0.715021\n",
       "2            50         3    0.947004  0.939851   0.567449  0.571295\n",
       "3           100         1    0.545076  0.545108   0.796967  0.796957\n",
       "4           100         2    0.658554  0.618208   0.724336  0.746585\n",
       "5           100         3    0.972176  0.972211   0.562246  0.562214\n",
       "6           150         1    0.671885  0.671942   0.729800  0.729791\n",
       "7           150         2    0.923146  0.919720   0.562507  0.562214\n",
       "8           150         3    0.971697  0.971413   0.562279  0.562214\n",
       "9            50         1    0.113136  0.113122   0.989347  0.989353"
      ]
     },
     "execution_count": 14,
     "metadata": {},
     "output_type": "execute_result"
    }
   ],
   "source": [
    "pd.read_csv('Parameter_selection.csv').head(10) # Hyperparameter tuning result."
   ]
  },
  {
   "cell_type": "markdown",
   "id": "9590a0ed",
   "metadata": {},
   "source": [
    "embedding size=100, hidden unit=100 n_layer=2 is the most optimal"
   ]
  },
  {
   "cell_type": "markdown",
   "id": "940c4d87",
   "metadata": {},
   "source": [
    "Now that I know optimal hyperparameter settings, I will modify each layers of model to relieve overfitting.\n",
    "\n",
    "Layer 1: Embedding\n",
    "Layer 2: Dropout\n",
    "Layer 3"
   ]
  },
  {
   "cell_type": "code",
   "execution_count": 67,
   "id": "fc2ccc19",
   "metadata": {
    "ExecuteTime": {
     "end_time": "2022-06-04T02:47:59.931396Z",
     "start_time": "2022-06-04T02:47:58.552483Z"
    },
    "scrolled": true
   },
   "outputs": [],
   "source": [
    "from Predict import Best_model_LSTM"
   ]
  },
  {
   "cell_type": "code",
   "execution_count": 68,
   "id": "f0eb2b45",
   "metadata": {
    "ExecuteTime": {
     "end_time": "2022-06-04T02:48:00.196421Z",
     "start_time": "2022-06-04T02:48:00.187601Z"
    }
   },
   "outputs": [],
   "source": [
    "from torch.utils.data import DataLoader, Dataset\n",
    "from torch.utils.data import TensorDataset\n",
    "from sklearn.model_selection import train_test_split"
   ]
  },
  {
   "cell_type": "code",
   "execution_count": 70,
   "id": "3b3bc2e0",
   "metadata": {
    "ExecuteTime": {
     "end_time": "2022-06-04T02:48:12.307747Z",
     "start_time": "2022-06-04T02:48:12.297222Z"
    }
   },
   "outputs": [],
   "source": [
    "batch_size=32 \n",
    "epochs=10\n",
    "splits=15"
   ]
  },
  {
   "cell_type": "code",
   "execution_count": 73,
   "id": "036ff087",
   "metadata": {
    "ExecuteTime": {
     "end_time": "2022-06-04T02:48:22.072957Z",
     "start_time": "2022-06-04T02:48:22.048496Z"
    }
   },
   "outputs": [],
   "source": [
    "train_x_set, test_x_set, train_y_set, test_y_set = train_test_split(x_list_pad,y_list, test_size=0.1, shuffle=True)"
   ]
  },
  {
   "cell_type": "code",
   "execution_count": 74,
   "id": "2e4d2c96",
   "metadata": {
    "ExecuteTime": {
     "end_time": "2022-06-04T02:48:23.641396Z",
     "start_time": "2022-06-04T02:48:23.628332Z"
    }
   },
   "outputs": [],
   "source": [
    "from sklearn.model_selection import KFold\n",
    "from tqdm import tqdm\n",
    "split = KFold(n_splits=splits, shuffle=True, random_state=True) #15 fold validation"
   ]
  },
  {
   "cell_type": "code",
   "execution_count": 81,
   "id": "b5ad9e6c",
   "metadata": {
    "ExecuteTime": {
     "end_time": "2022-06-04T03:31:23.258095Z",
     "start_time": "2022-06-04T03:31:23.217475Z"
    }
   },
   "outputs": [],
   "source": [
    "lstm=Best_model_LSTM(vocab_size,embedding_num=20,\n",
    "                         hidden_units=100,\n",
    "                         nlayers=2,\n",
    "                         nclass=3,drop=0.60) #Defining model\n",
    "optimizer = torch.optim.Adam(lstm.parameters(), lr=0.01,weight_decay=1e-6)\n",
    "scheduler = torch.optim.lr_scheduler.LambdaLR(optimizer=optimizer,\n",
    "                                                            lr_lambda=lambda epoch: 0.95 ** epoch,\n",
    "                                                            last_epoch=-1,\n",
    "                                                            verbose=False)\n",
    "criterion = torch.nn.CrossEntropyLoss() # 분류"
   ]
  },
  {
   "cell_type": "code",
   "execution_count": 78,
   "id": "bd94e64f",
   "metadata": {
    "ExecuteTime": {
     "end_time": "2022-06-04T02:49:02.210505Z",
     "start_time": "2022-06-04T02:49:01.501426Z"
    },
    "scrolled": true
   },
   "outputs": [
    {
     "name": "stderr",
     "output_type": "stream",
     "text": [
      "C:\\Users\\icako\\AppData\\Local\\Temp\\ipykernel_33880\\3121536716.py:8: UserWarning: To copy construct from a tensor, it is recommended to use sourceTensor.clone().detach() or sourceTensor.clone().detach().requires_grad_(True), rather than torch.tensor(sourceTensor).\n",
      "  train_y_set=torch.tensor(train_y_set).to(device)\n",
      "  0%|          | 0/10 [00:00<?, ?it/s]\n"
     ]
    },
    {
     "ename": "RuntimeError",
     "evalue": "CUDA out of memory. Tried to allocate 342.00 MiB (GPU 0; 2.00 GiB total capacity; 978.49 MiB already allocated; 2.50 MiB free; 1.15 GiB reserved in total by PyTorch) If reserved memory is >> allocated memory try setting max_split_size_mb to avoid fragmentation.  See documentation for Memory Management and PYTORCH_CUDA_ALLOC_CONF",
     "output_type": "error",
     "traceback": [
      "\u001b[1;31m---------------------------------------------------------------------------\u001b[0m",
      "\u001b[1;31mRuntimeError\u001b[0m                              Traceback (most recent call last)",
      "Input \u001b[1;32mIn [78]\u001b[0m, in \u001b[0;36m<cell line: 10>\u001b[1;34m()\u001b[0m\n\u001b[0;32m     23\u001b[0m train_x\u001b[38;5;241m=\u001b[39mnp\u001b[38;5;241m.\u001b[39marray(train_x)\n\u001b[0;32m     24\u001b[0m val_x\u001b[38;5;241m=\u001b[39mnp\u001b[38;5;241m.\u001b[39marray(val_x)        \n\u001b[1;32m---> 27\u001b[0m scores\u001b[38;5;241m=\u001b[39m\u001b[43mlstm\u001b[49m\u001b[43m(\u001b[49m\u001b[43mtrain_x\u001b[49m\u001b[43m)\u001b[49m\n\u001b[0;32m     28\u001b[0m loss \u001b[38;5;241m=\u001b[39m criterion(scores, train_y)\n\u001b[0;32m     29\u001b[0m train_loss_record \u001b[38;5;241m+\u001b[39m\u001b[38;5;241m=\u001b[39m (loss\u001b[38;5;241m.\u001b[39mitem())        \n",
      "File \u001b[1;32m~\\anaconda3\\envs\\py\\lib\\site-packages\\torch\\nn\\modules\\module.py:1110\u001b[0m, in \u001b[0;36mModule._call_impl\u001b[1;34m(self, *input, **kwargs)\u001b[0m\n\u001b[0;32m   1106\u001b[0m \u001b[38;5;66;03m# If we don't have any hooks, we want to skip the rest of the logic in\u001b[39;00m\n\u001b[0;32m   1107\u001b[0m \u001b[38;5;66;03m# this function, and just call forward.\u001b[39;00m\n\u001b[0;32m   1108\u001b[0m \u001b[38;5;28;01mif\u001b[39;00m \u001b[38;5;129;01mnot\u001b[39;00m (\u001b[38;5;28mself\u001b[39m\u001b[38;5;241m.\u001b[39m_backward_hooks \u001b[38;5;129;01mor\u001b[39;00m \u001b[38;5;28mself\u001b[39m\u001b[38;5;241m.\u001b[39m_forward_hooks \u001b[38;5;129;01mor\u001b[39;00m \u001b[38;5;28mself\u001b[39m\u001b[38;5;241m.\u001b[39m_forward_pre_hooks \u001b[38;5;129;01mor\u001b[39;00m _global_backward_hooks\n\u001b[0;32m   1109\u001b[0m         \u001b[38;5;129;01mor\u001b[39;00m _global_forward_hooks \u001b[38;5;129;01mor\u001b[39;00m _global_forward_pre_hooks):\n\u001b[1;32m-> 1110\u001b[0m     \u001b[38;5;28;01mreturn\u001b[39;00m \u001b[43mforward_call\u001b[49m\u001b[43m(\u001b[49m\u001b[38;5;241;43m*\u001b[39;49m\u001b[38;5;28;43minput\u001b[39;49m\u001b[43m,\u001b[49m\u001b[43m \u001b[49m\u001b[38;5;241;43m*\u001b[39;49m\u001b[38;5;241;43m*\u001b[39;49m\u001b[43mkwargs\u001b[49m\u001b[43m)\u001b[49m\n\u001b[0;32m   1111\u001b[0m \u001b[38;5;66;03m# Do not call functions when jit is used\u001b[39;00m\n\u001b[0;32m   1112\u001b[0m full_backward_hooks, non_full_backward_hooks \u001b[38;5;241m=\u001b[39m [], []\n",
      "File \u001b[1;32m~\\./NewsCrawler\\Predict.py:59\u001b[0m, in \u001b[0;36mBest_model_LSTM.forward\u001b[1;34m(self, x)\u001b[0m\n\u001b[0;32m     57\u001b[0m xembedded \u001b[38;5;241m=\u001b[39m torch\u001b[38;5;241m.\u001b[39mtensor(xembedded)\u001b[38;5;241m.\u001b[39mto(device)\n\u001b[0;32m     58\u001b[0m \u001b[38;5;66;03m#xembedded=self.dropout(xembedded)\u001b[39;00m\n\u001b[1;32m---> 59\u001b[0m lstm_out, (ht, ct)\u001b[38;5;241m=\u001b[39m\u001b[38;5;28;43mself\u001b[39;49m\u001b[38;5;241;43m.\u001b[39;49m\u001b[43mlayer2\u001b[49m\u001b[43m(\u001b[49m\u001b[43mxembedded\u001b[49m\u001b[43m)\u001b[49m\n\u001b[0;32m     60\u001b[0m scores\u001b[38;5;241m=\u001b[39m\u001b[38;5;28mself\u001b[39m\u001b[38;5;241m.\u001b[39mlayer3(ht[\u001b[38;5;241m-\u001b[39m\u001b[38;5;241m1\u001b[39m])\u001b[38;5;241m.\u001b[39mto(device)\n\u001b[0;32m     61\u001b[0m \u001b[38;5;28;01mreturn\u001b[39;00m scores\n",
      "File \u001b[1;32m~\\anaconda3\\envs\\py\\lib\\site-packages\\torch\\nn\\modules\\module.py:1110\u001b[0m, in \u001b[0;36mModule._call_impl\u001b[1;34m(self, *input, **kwargs)\u001b[0m\n\u001b[0;32m   1106\u001b[0m \u001b[38;5;66;03m# If we don't have any hooks, we want to skip the rest of the logic in\u001b[39;00m\n\u001b[0;32m   1107\u001b[0m \u001b[38;5;66;03m# this function, and just call forward.\u001b[39;00m\n\u001b[0;32m   1108\u001b[0m \u001b[38;5;28;01mif\u001b[39;00m \u001b[38;5;129;01mnot\u001b[39;00m (\u001b[38;5;28mself\u001b[39m\u001b[38;5;241m.\u001b[39m_backward_hooks \u001b[38;5;129;01mor\u001b[39;00m \u001b[38;5;28mself\u001b[39m\u001b[38;5;241m.\u001b[39m_forward_hooks \u001b[38;5;129;01mor\u001b[39;00m \u001b[38;5;28mself\u001b[39m\u001b[38;5;241m.\u001b[39m_forward_pre_hooks \u001b[38;5;129;01mor\u001b[39;00m _global_backward_hooks\n\u001b[0;32m   1109\u001b[0m         \u001b[38;5;129;01mor\u001b[39;00m _global_forward_hooks \u001b[38;5;129;01mor\u001b[39;00m _global_forward_pre_hooks):\n\u001b[1;32m-> 1110\u001b[0m     \u001b[38;5;28;01mreturn\u001b[39;00m \u001b[43mforward_call\u001b[49m\u001b[43m(\u001b[49m\u001b[38;5;241;43m*\u001b[39;49m\u001b[38;5;28;43minput\u001b[39;49m\u001b[43m,\u001b[49m\u001b[43m \u001b[49m\u001b[38;5;241;43m*\u001b[39;49m\u001b[38;5;241;43m*\u001b[39;49m\u001b[43mkwargs\u001b[49m\u001b[43m)\u001b[49m\n\u001b[0;32m   1111\u001b[0m \u001b[38;5;66;03m# Do not call functions when jit is used\u001b[39;00m\n\u001b[0;32m   1112\u001b[0m full_backward_hooks, non_full_backward_hooks \u001b[38;5;241m=\u001b[39m [], []\n",
      "File \u001b[1;32m~\\anaconda3\\envs\\py\\lib\\site-packages\\torch\\nn\\modules\\rnn.py:761\u001b[0m, in \u001b[0;36mLSTM.forward\u001b[1;34m(self, input, hx)\u001b[0m\n\u001b[0;32m    759\u001b[0m \u001b[38;5;28mself\u001b[39m\u001b[38;5;241m.\u001b[39mcheck_forward_args(\u001b[38;5;28minput\u001b[39m, hx, batch_sizes)\n\u001b[0;32m    760\u001b[0m \u001b[38;5;28;01mif\u001b[39;00m batch_sizes \u001b[38;5;129;01mis\u001b[39;00m \u001b[38;5;28;01mNone\u001b[39;00m:\n\u001b[1;32m--> 761\u001b[0m     result \u001b[38;5;241m=\u001b[39m \u001b[43m_VF\u001b[49m\u001b[38;5;241;43m.\u001b[39;49m\u001b[43mlstm\u001b[49m\u001b[43m(\u001b[49m\u001b[38;5;28;43minput\u001b[39;49m\u001b[43m,\u001b[49m\u001b[43m \u001b[49m\u001b[43mhx\u001b[49m\u001b[43m,\u001b[49m\u001b[43m \u001b[49m\u001b[38;5;28;43mself\u001b[39;49m\u001b[38;5;241;43m.\u001b[39;49m\u001b[43m_flat_weights\u001b[49m\u001b[43m,\u001b[49m\u001b[43m \u001b[49m\u001b[38;5;28;43mself\u001b[39;49m\u001b[38;5;241;43m.\u001b[39;49m\u001b[43mbias\u001b[49m\u001b[43m,\u001b[49m\u001b[43m \u001b[49m\u001b[38;5;28;43mself\u001b[39;49m\u001b[38;5;241;43m.\u001b[39;49m\u001b[43mnum_layers\u001b[49m\u001b[43m,\u001b[49m\n\u001b[0;32m    762\u001b[0m \u001b[43m                      \u001b[49m\u001b[38;5;28;43mself\u001b[39;49m\u001b[38;5;241;43m.\u001b[39;49m\u001b[43mdropout\u001b[49m\u001b[43m,\u001b[49m\u001b[43m \u001b[49m\u001b[38;5;28;43mself\u001b[39;49m\u001b[38;5;241;43m.\u001b[39;49m\u001b[43mtraining\u001b[49m\u001b[43m,\u001b[49m\u001b[43m \u001b[49m\u001b[38;5;28;43mself\u001b[39;49m\u001b[38;5;241;43m.\u001b[39;49m\u001b[43mbidirectional\u001b[49m\u001b[43m,\u001b[49m\u001b[43m \u001b[49m\u001b[38;5;28;43mself\u001b[39;49m\u001b[38;5;241;43m.\u001b[39;49m\u001b[43mbatch_first\u001b[49m\u001b[43m)\u001b[49m\n\u001b[0;32m    763\u001b[0m \u001b[38;5;28;01melse\u001b[39;00m:\n\u001b[0;32m    764\u001b[0m     result \u001b[38;5;241m=\u001b[39m _VF\u001b[38;5;241m.\u001b[39mlstm(\u001b[38;5;28minput\u001b[39m, batch_sizes, hx, \u001b[38;5;28mself\u001b[39m\u001b[38;5;241m.\u001b[39m_flat_weights, \u001b[38;5;28mself\u001b[39m\u001b[38;5;241m.\u001b[39mbias,\n\u001b[0;32m    765\u001b[0m                       \u001b[38;5;28mself\u001b[39m\u001b[38;5;241m.\u001b[39mnum_layers, \u001b[38;5;28mself\u001b[39m\u001b[38;5;241m.\u001b[39mdropout, \u001b[38;5;28mself\u001b[39m\u001b[38;5;241m.\u001b[39mtraining, \u001b[38;5;28mself\u001b[39m\u001b[38;5;241m.\u001b[39mbidirectional)\n",
      "\u001b[1;31mRuntimeError\u001b[0m: CUDA out of memory. Tried to allocate 342.00 MiB (GPU 0; 2.00 GiB total capacity; 978.49 MiB already allocated; 2.50 MiB free; 1.15 GiB reserved in total by PyTorch) If reserved memory is >> allocated memory try setting max_split_size_mb to avoid fragmentation.  See documentation for Memory Management and PYTORCH_CUDA_ALLOC_CONF"
     ]
    }
   ],
   "source": [
    "loss_train_all = []\n",
    "loss_val_all = []\n",
    "each_fold_train_acc = []\n",
    "each_fold_val_acc = []\n",
    "best_acc = 0\n",
    "train_accuracy_each_epoch=0\n",
    "val_accuracy_each_epoch=0    \n",
    "train_y_set=torch.tensor(train_y_set).to(device)\n",
    "    \n",
    "for i in tqdm(range(epochs)):\n",
    "    count=0\n",
    "    count_val=0\n",
    "    train_accuracy_each_epoch=0\n",
    "    train_loss_record=0\n",
    "\n",
    "    val_accuracy_each_epoch=0  \n",
    "    val_loss_record=0\n",
    "    for train_idx,val_idx in split.split(train_x_set,train_y_set):\n",
    "        train_x, train_y = train_x_set[train_idx], train_y_set[train_idx]\n",
    "        val_x, val_y = train_x_set[val_idx], train_y_set[val_idx]\n",
    "        count+=len(train_x)\n",
    "        count_val+=len(val_x)\n",
    "        train_x=np.array(train_x)\n",
    "        val_x=np.array(val_x)        \n",
    "\n",
    "        \n",
    "        scores=lstm(train_x)\n",
    "        loss = criterion(scores, train_y)\n",
    "        train_loss_record += (loss.item())        \n",
    "        optimizer.zero_grad()\n",
    "\n",
    "        loss.backward()\n",
    "        optimizer.step()\n",
    "        scheduler.step()\n",
    "\n",
    "        train_accuracy_each_epoch+=(sum(scores.argmax(axis=1)==train_y.argmax(axis=1))).item()\n",
    "    \n",
    "        with torch.no_grad():\n",
    "            scores2 = lstm(val_x)\n",
    "            val_loss_record += criterion(scores2, val_y).item()\n",
    "            epoch_acc=(sum(scores2.argmax(axis=1)==val_y.argmax(axis=1))).item()\n",
    "            val_accuracy_each_epoch+=epoch_acc\n",
    "        \n",
    "    train_accuracy_each_epoch=train_accuracy_each_epoch/count\n",
    "\n",
    "    val_accuracy_each_epoch=val_accuracy_each_epoch/count_val\n",
    "        \n",
    "    if best_acc < val_accuracy_each_epoch:\n",
    "        best_acc = val_accuracy_each_epoch\n",
    "        print('Best Accuracy is: ', best_acc)\n",
    "        torch.save(lstm.state_dict(),'C:/Users/icako/NewsCrawler/best_model.pth')\n",
    "        print('Model Saved.')\n",
    "    \n",
    "    \n",
    "    \n",
    "    loss_train_all.append(train_loss_record/len(train_x))\n",
    "    loss_val_all.append(val_loss_record/len(val_x))\n",
    "\n",
    "    each_fold_train_acc.append(train_accuracy_each_epoch)\n",
    "    each_fold_val_acc.append(val_accuracy_each_epoch)\n",
    "    \n",
    "    print(\"Train Acc is: \",train_accuracy_each_epoch)\n",
    "    print(\"Val Acc is: \",val_accuracy_each_epoch)    \n",
    "    print(\"Train Loss is: \",train_loss_record/len(train_x))\n",
    "    print(\"Val Loss is: \",val_loss_record/len(val_x)) "
   ]
  },
  {
   "cell_type": "code",
   "execution_count": 82,
   "id": "dde70689",
   "metadata": {
    "ExecuteTime": {
     "end_time": "2022-06-04T03:31:26.094829Z",
     "start_time": "2022-06-04T03:31:26.059812Z"
    },
    "scrolled": false
   },
   "outputs": [
    {
     "data": {
      "text/plain": [
       "Best_model_LSTM(\n",
       "  (layer1): Embedding(5227, 100, padding_idx=0)\n",
       "  (layer2): LSTM(100, 100, num_layers=2, batch_first=True, dropout=0.6)\n",
       "  (layer3): Linear(in_features=100, out_features=3, bias=True)\n",
       ")"
      ]
     },
     "execution_count": 82,
     "metadata": {},
     "output_type": "execute_result"
    }
   ],
   "source": [
    "checkpoint=torch.load('C:/Users/icako/NewsCrawler/best_modelLSTMfinal.pth') # Load the best model\n",
    "lstm.load_state_dict(checkpoint) \n",
    "lstm.eval()"
   ]
  },
  {
   "cell_type": "code",
   "execution_count": 83,
   "id": "178cc4a0",
   "metadata": {
    "ExecuteTime": {
     "end_time": "2022-06-04T03:31:27.234211Z",
     "start_time": "2022-06-04T03:31:27.030899Z"
    }
   },
   "outputs": [
    {
     "ename": "RuntimeError",
     "evalue": "CUDA error: CUBLAS_STATUS_ALLOC_FAILED when calling `cublasCreate(handle)`",
     "output_type": "error",
     "traceback": [
      "\u001b[1;31m---------------------------------------------------------------------------\u001b[0m",
      "\u001b[1;31mRuntimeError\u001b[0m                              Traceback (most recent call last)",
      "Input \u001b[1;32mIn [83]\u001b[0m, in \u001b[0;36m<cell line: 1>\u001b[1;34m()\u001b[0m\n\u001b[1;32m----> 1\u001b[0m pred_y\u001b[38;5;241m=\u001b[39m\u001b[43mlstm\u001b[49m\u001b[43m(\u001b[49m\u001b[43mtest_x_set\u001b[49m\u001b[43m)\u001b[49m\u001b[38;5;241m.\u001b[39margmax(axis\u001b[38;5;241m=\u001b[39m\u001b[38;5;241m1\u001b[39m)\u001b[38;5;241m.\u001b[39mto(torch\u001b[38;5;241m.\u001b[39mdevice(\u001b[38;5;124m'\u001b[39m\u001b[38;5;124mcpu\u001b[39m\u001b[38;5;124m'\u001b[39m))\n\u001b[0;32m      2\u001b[0m origin_y\u001b[38;5;241m=\u001b[39mtorch\u001b[38;5;241m.\u001b[39mtensor(test_y_set)\u001b[38;5;241m.\u001b[39mto(torch\u001b[38;5;241m.\u001b[39mdevice(\u001b[38;5;124m'\u001b[39m\u001b[38;5;124mcpu\u001b[39m\u001b[38;5;124m'\u001b[39m))\u001b[38;5;241m.\u001b[39margmax(axis\u001b[38;5;241m=\u001b[39m\u001b[38;5;241m1\u001b[39m)\n",
      "File \u001b[1;32m~\\anaconda3\\envs\\py\\lib\\site-packages\\torch\\nn\\modules\\module.py:1110\u001b[0m, in \u001b[0;36mModule._call_impl\u001b[1;34m(self, *input, **kwargs)\u001b[0m\n\u001b[0;32m   1106\u001b[0m \u001b[38;5;66;03m# If we don't have any hooks, we want to skip the rest of the logic in\u001b[39;00m\n\u001b[0;32m   1107\u001b[0m \u001b[38;5;66;03m# this function, and just call forward.\u001b[39;00m\n\u001b[0;32m   1108\u001b[0m \u001b[38;5;28;01mif\u001b[39;00m \u001b[38;5;129;01mnot\u001b[39;00m (\u001b[38;5;28mself\u001b[39m\u001b[38;5;241m.\u001b[39m_backward_hooks \u001b[38;5;129;01mor\u001b[39;00m \u001b[38;5;28mself\u001b[39m\u001b[38;5;241m.\u001b[39m_forward_hooks \u001b[38;5;129;01mor\u001b[39;00m \u001b[38;5;28mself\u001b[39m\u001b[38;5;241m.\u001b[39m_forward_pre_hooks \u001b[38;5;129;01mor\u001b[39;00m _global_backward_hooks\n\u001b[0;32m   1109\u001b[0m         \u001b[38;5;129;01mor\u001b[39;00m _global_forward_hooks \u001b[38;5;129;01mor\u001b[39;00m _global_forward_pre_hooks):\n\u001b[1;32m-> 1110\u001b[0m     \u001b[38;5;28;01mreturn\u001b[39;00m \u001b[43mforward_call\u001b[49m\u001b[43m(\u001b[49m\u001b[38;5;241;43m*\u001b[39;49m\u001b[38;5;28;43minput\u001b[39;49m\u001b[43m,\u001b[49m\u001b[43m \u001b[49m\u001b[38;5;241;43m*\u001b[39;49m\u001b[38;5;241;43m*\u001b[39;49m\u001b[43mkwargs\u001b[49m\u001b[43m)\u001b[49m\n\u001b[0;32m   1111\u001b[0m \u001b[38;5;66;03m# Do not call functions when jit is used\u001b[39;00m\n\u001b[0;32m   1112\u001b[0m full_backward_hooks, non_full_backward_hooks \u001b[38;5;241m=\u001b[39m [], []\n",
      "File \u001b[1;32m~\\./NewsCrawler\\Predict.py:60\u001b[0m, in \u001b[0;36mBest_model_LSTM.forward\u001b[1;34m(self, x)\u001b[0m\n\u001b[0;32m     58\u001b[0m \u001b[38;5;66;03m#xembedded=self.dropout(xembedded)\u001b[39;00m\n\u001b[0;32m     59\u001b[0m lstm_out, (ht, ct)\u001b[38;5;241m=\u001b[39m\u001b[38;5;28mself\u001b[39m\u001b[38;5;241m.\u001b[39mlayer2(xembedded)\n\u001b[1;32m---> 60\u001b[0m scores\u001b[38;5;241m=\u001b[39m\u001b[38;5;28;43mself\u001b[39;49m\u001b[38;5;241;43m.\u001b[39;49m\u001b[43mlayer3\u001b[49m\u001b[43m(\u001b[49m\u001b[43mht\u001b[49m\u001b[43m[\u001b[49m\u001b[38;5;241;43m-\u001b[39;49m\u001b[38;5;241;43m1\u001b[39;49m\u001b[43m]\u001b[49m\u001b[43m)\u001b[49m\u001b[38;5;241m.\u001b[39mto(device)\n\u001b[0;32m     61\u001b[0m \u001b[38;5;28;01mreturn\u001b[39;00m scores\n",
      "File \u001b[1;32m~\\anaconda3\\envs\\py\\lib\\site-packages\\torch\\nn\\modules\\module.py:1110\u001b[0m, in \u001b[0;36mModule._call_impl\u001b[1;34m(self, *input, **kwargs)\u001b[0m\n\u001b[0;32m   1106\u001b[0m \u001b[38;5;66;03m# If we don't have any hooks, we want to skip the rest of the logic in\u001b[39;00m\n\u001b[0;32m   1107\u001b[0m \u001b[38;5;66;03m# this function, and just call forward.\u001b[39;00m\n\u001b[0;32m   1108\u001b[0m \u001b[38;5;28;01mif\u001b[39;00m \u001b[38;5;129;01mnot\u001b[39;00m (\u001b[38;5;28mself\u001b[39m\u001b[38;5;241m.\u001b[39m_backward_hooks \u001b[38;5;129;01mor\u001b[39;00m \u001b[38;5;28mself\u001b[39m\u001b[38;5;241m.\u001b[39m_forward_hooks \u001b[38;5;129;01mor\u001b[39;00m \u001b[38;5;28mself\u001b[39m\u001b[38;5;241m.\u001b[39m_forward_pre_hooks \u001b[38;5;129;01mor\u001b[39;00m _global_backward_hooks\n\u001b[0;32m   1109\u001b[0m         \u001b[38;5;129;01mor\u001b[39;00m _global_forward_hooks \u001b[38;5;129;01mor\u001b[39;00m _global_forward_pre_hooks):\n\u001b[1;32m-> 1110\u001b[0m     \u001b[38;5;28;01mreturn\u001b[39;00m \u001b[43mforward_call\u001b[49m\u001b[43m(\u001b[49m\u001b[38;5;241;43m*\u001b[39;49m\u001b[38;5;28;43minput\u001b[39;49m\u001b[43m,\u001b[49m\u001b[43m \u001b[49m\u001b[38;5;241;43m*\u001b[39;49m\u001b[38;5;241;43m*\u001b[39;49m\u001b[43mkwargs\u001b[49m\u001b[43m)\u001b[49m\n\u001b[0;32m   1111\u001b[0m \u001b[38;5;66;03m# Do not call functions when jit is used\u001b[39;00m\n\u001b[0;32m   1112\u001b[0m full_backward_hooks, non_full_backward_hooks \u001b[38;5;241m=\u001b[39m [], []\n",
      "File \u001b[1;32m~\\anaconda3\\envs\\py\\lib\\site-packages\\torch\\nn\\modules\\linear.py:103\u001b[0m, in \u001b[0;36mLinear.forward\u001b[1;34m(self, input)\u001b[0m\n\u001b[0;32m    102\u001b[0m \u001b[38;5;28;01mdef\u001b[39;00m \u001b[38;5;21mforward\u001b[39m(\u001b[38;5;28mself\u001b[39m, \u001b[38;5;28minput\u001b[39m: Tensor) \u001b[38;5;241m-\u001b[39m\u001b[38;5;241m>\u001b[39m Tensor:\n\u001b[1;32m--> 103\u001b[0m     \u001b[38;5;28;01mreturn\u001b[39;00m \u001b[43mF\u001b[49m\u001b[38;5;241;43m.\u001b[39;49m\u001b[43mlinear\u001b[49m\u001b[43m(\u001b[49m\u001b[38;5;28;43minput\u001b[39;49m\u001b[43m,\u001b[49m\u001b[43m \u001b[49m\u001b[38;5;28;43mself\u001b[39;49m\u001b[38;5;241;43m.\u001b[39;49m\u001b[43mweight\u001b[49m\u001b[43m,\u001b[49m\u001b[43m \u001b[49m\u001b[38;5;28;43mself\u001b[39;49m\u001b[38;5;241;43m.\u001b[39;49m\u001b[43mbias\u001b[49m\u001b[43m)\u001b[49m\n",
      "\u001b[1;31mRuntimeError\u001b[0m: CUDA error: CUBLAS_STATUS_ALLOC_FAILED when calling `cublasCreate(handle)`"
     ]
    }
   ],
   "source": [
    "pred_y=lstm(test_x_set).argmax(axis=1).to(torch.device('cpu'))\n",
    "origin_y=torch.tensor(test_y_set).to(torch.device('cpu')).argmax(axis=1)"
   ]
  },
  {
   "cell_type": "code",
   "execution_count": 123,
   "id": "fb057956",
   "metadata": {
    "ExecuteTime": {
     "end_time": "2022-06-01T07:03:45.129855Z",
     "start_time": "2022-06-01T07:03:45.080937Z"
    }
   },
   "outputs": [
    {
     "data": {
      "text/plain": [
       "0.6767676767676768"
      ]
     },
     "execution_count": 123,
     "metadata": {},
     "output_type": "execute_result"
    }
   ],
   "source": [
    "sum(pred_y==origin_y).item()/len(origin_y)  #Test accuracy"
   ]
  },
  {
   "cell_type": "code",
   "execution_count": 84,
   "id": "61a84b7b",
   "metadata": {
    "ExecuteTime": {
     "end_time": "2022-06-04T03:32:01.255313Z",
     "start_time": "2022-06-04T03:32:01.233572Z"
    }
   },
   "outputs": [],
   "source": [
    "records=pd.read_csv('Train_record.csv')"
   ]
  },
  {
   "cell_type": "code",
   "execution_count": 85,
   "id": "a13cde58",
   "metadata": {
    "ExecuteTime": {
     "end_time": "2022-06-04T03:32:02.440771Z",
     "start_time": "2022-06-04T03:32:02.091212Z"
    }
   },
   "outputs": [
    {
     "data": {
      "text/plain": [
       "<matplotlib.legend.Legend at 0x1cf2e769610>"
      ]
     },
     "execution_count": 85,
     "metadata": {},
     "output_type": "execute_result"
    },
    {
     "data": {
      "image/png": "[encoded data removed]",
      "text/plain": [
       "<Figure size 432x288 with 1 Axes>"
      ]
     },
     "metadata": {
      "needs_background": "light"
     },
     "output_type": "display_data"
    }
   ],
   "source": [
    "plt.plot(records['Train_loss'],label='Train Loss')\n",
    "plt.plot(records['Val_loss'],label='Validation loss')\n",
    "plt.xlabel('Epochs')\n",
    "plt.ylabel('Loss')\n",
    "plt.legend()"
   ]
  },
  {
   "cell_type": "code",
   "execution_count": 86,
   "id": "2344331a",
   "metadata": {
    "ExecuteTime": {
     "end_time": "2022-06-04T03:32:03.571907Z",
     "start_time": "2022-06-04T03:32:03.213348Z"
    }
   },
   "outputs": [
    {
     "data": {
      "text/plain": [
       "<matplotlib.legend.Legend at 0x1cf2e7b5d30>"
      ]
     },
     "execution_count": 86,
     "metadata": {},
     "output_type": "execute_result"
    },
    {
     "data": {
      "image/png": "[encoded data removed]",
      "text/plain": [
       "<Figure size 432x288 with 1 Axes>"
      ]
     },
     "metadata": {
      "needs_background": "light"
     },
     "output_type": "display_data"
    }
   ],
   "source": [
    "plt.plot(records['Train_acc'],label='Train Accuracy')\n",
    "plt.plot(records['Val_acc'],label='Validation Accuracy')\n",
    "plt.xlabel('Epochs')\n",
    "plt.ylabel('Accuracy')\n",
    "plt.legend()"
   ]
  },
  {
   "cell_type": "code",
   "execution_count": 190,
   "id": "e77ba029",
   "metadata": {
    "ExecuteTime": {
     "end_time": "2022-06-01T07:42:52.423564Z",
     "start_time": "2022-06-01T07:42:52.399056Z"
    }
   },
   "outputs": [],
   "source": [
    "def predict(input): #Predict reader response when a title is computed\n",
    "    from konlpy.tag import Okt\n",
    "    import re\n",
    "    from tensorflow.keras.preprocessing.sequence import pad_sequences\n",
    "    from tensorflow.keras.preprocessing.text import Tokenizer\n",
    "\n",
    "    stopwords = pd.read_csv(\n",
    "                    \"https://raw.githubusercontent.com/yoonkt200/FastCampusDataset/master/korean_stopwords.txt\").values.tolist()\n",
    "\n",
    "    hangul=re.compile('[^ ㄱ-ㅣ 가-힣]')\n",
    "    hangul.sub('',input)\n",
    "    okt=Okt()\n",
    "    tokens=okt.morphs(input)\n",
    "    removal=[x for x in tokens if x not in stopwords]\n",
    "    removal=[x for x in tokens if len(x)>1]\n",
    "\n",
    "    predicttokenizer=Tokenizer()\n",
    "    predicttokenizer.fit_on_texts(removal)\n",
    "    vocab_size_predict=len(predicttokenizer.word_counts.items())\n",
    "    predict_x=T.tokenizer.texts_to_sequences([removal])\n",
    "    predict_x = [sentence for sentence in predict_x if len(sentence) > 0]\n",
    "    predict_x=pad_sequences(predict_x,maxlen=10)\n",
    "    predict_x=np.array(predict_x)\n",
    "    prob=(torch.nn.functional.softmax(lstm(predict_x))).view(-1)\n",
    "    predict_y=torch.argmax(prob)\n",
    "    \n",
    "    print(\"Expected Sentiment is :\", predict_y.item(), 'predict_y with probability of', round(prob[predict_y].item(),2)) "
   ]
  },
  {
   "cell_type": "code",
   "execution_count": 39,
   "id": "c471dca7",
   "metadata": {
    "ExecuteTime": {
     "end_time": "2022-06-01T06:35:24.526031Z",
     "start_time": "2022-06-01T06:35:24.487234Z"
    }
   },
   "outputs": [
    {
     "data": {
      "text/plain": [
       "2    874\n",
       "0    460\n",
       "1    250\n",
       "dtype: int64"
      ]
     },
     "execution_count": 39,
     "metadata": {},
     "output_type": "execute_result"
    }
   ],
   "source": [
    "pd.DataFrame((test_y_set.argmax(axis=1))).value_counts() #DIstribution of test label dataset"
   ]
  },
  {
   "cell_type": "code",
   "execution_count": 40,
   "id": "ab7ed7fa",
   "metadata": {
    "ExecuteTime": {
     "end_time": "2022-06-01T06:35:34.657886Z",
     "start_time": "2022-06-01T06:35:34.641939Z"
    }
   },
   "outputs": [
    {
     "data": {
      "text/plain": [
       "2    1122\n",
       "0     372\n",
       "1      90\n",
       "dtype: int64"
      ]
     },
     "execution_count": 40,
     "metadata": {},
     "output_type": "execute_result"
    }
   ],
   "source": [
    "pd.DataFrame(pred_y).value_counts() #Distribution of fitted test label data"
   ]
  },
  {
   "cell_type": "code",
   "execution_count": 74,
   "id": "444fc6d2",
   "metadata": {
    "ExecuteTime": {
     "end_time": "2022-06-01T06:55:06.494634Z",
     "start_time": "2022-06-01T06:55:06.207851Z"
    }
   },
   "outputs": [
    {
     "name": "stderr",
     "output_type": "stream",
     "text": [
      "C:\\Users\\icako\\./NewsCrawler\\Predict.py:57: UserWarning: To copy construct from a tensor, it is recommended to use sourceTensor.clone().detach() or sourceTensor.clone().detach().requires_grad_(True), rather than torch.tensor(sourceTensor).\n",
      "  xembedded = torch.tensor(xembedded).to(device)\n"
     ]
    }
   ],
   "source": [
    "train_pred=lstm(x_list_pad).argmax(axis=1).to(torch.device('cpu'))\n",
    "train_target=torch.tensor(y_list).argmax(axis=1).to(torch.device('cpu'))"
   ]
  },
  {
   "cell_type": "code",
   "execution_count": 100,
   "id": "275517f7",
   "metadata": {
    "ExecuteTime": {
     "end_time": "2022-06-01T07:00:15.389666Z",
     "start_time": "2022-06-01T07:00:15.377790Z"
    }
   },
   "outputs": [],
   "source": [
    "confusion=pd.concat([pd.DataFrame(train_pred),pd.DataFrame(train_target)],axis=1)\n",
    "confusion.columns=['Fitted','Real']\n",
    "matrix_conf=confusion_matrix(confusion['Real'],confusion['Fitted'])\n",
    "matrix_conf=matrix_conf/np.sum(matrix_conf,axis=0)\n",
    "confusionmatrix=pd.DataFrame(matrix_conf, \n",
    "             index=['Negative',  'Neutral','Positive'],\n",
    "             columns=['Negative', 'Neutral','Positive'])"
   ]
  },
  {
   "cell_type": "code",
   "execution_count": 119,
   "id": "49353edf",
   "metadata": {
    "ExecuteTime": {
     "end_time": "2022-06-01T07:02:28.415993Z",
     "start_time": "2022-06-01T07:02:28.006427Z"
    }
   },
   "outputs": [
    {
     "data": {
      "image/png": "[encoded data removed]",
      "text/plain": [
       "<Figure size 432x288 with 2 Axes>"
      ]
     },
     "metadata": {
      "needs_background": "light"
     },
     "output_type": "display_data"
    }
   ],
   "source": [
    "import seaborn as sns\n",
    "sns.heatmap(confusionmatrix, annot = True, fmt = '.3f',cmap = 'Reds') # Confusion matrix\n",
    "plt.xlabel('Target')\n",
    "plt.ylabel('Fitted')\n",
    "\n",
    "plt.show()"
   ]
  },
  {
   "cell_type": "code",
   "execution_count": 173,
   "id": "2b920f32",
   "metadata": {
    "ExecuteTime": {
     "end_time": "2022-06-01T07:33:33.628582Z",
     "start_time": "2022-06-01T07:33:33.605024Z"
    }
   },
   "outputs": [
    {
     "data": {
      "text/plain": [
       "array([ 3935, 15256,  7553,  4578,  1246])"
      ]
     },
     "execution_count": 173,
     "metadata": {},
     "output_type": "execute_result"
    }
   ],
   "source": [
    "np.random.randint(0,len(dataset),5)"
   ]
  },
  {
   "cell_type": "code",
   "execution_count": 187,
   "id": "4594604a",
   "metadata": {
    "ExecuteTime": {
     "end_time": "2022-06-01T07:41:30.066612Z",
     "start_time": "2022-06-01T07:41:30.056075Z"
    }
   },
   "outputs": [],
   "source": [
    "import warnings\n",
    "warnings.filterwarnings(action='ignore')"
   ]
  },
  {
   "cell_type": "code",
   "execution_count": 197,
   "id": "cf43a8fe",
   "metadata": {
    "ExecuteTime": {
     "end_time": "2022-06-01T08:03:17.367923Z",
     "start_time": "2022-06-01T08:03:15.561681Z"
    }
   },
   "outputs": [
    {
     "name": "stdout",
     "output_type": "stream",
     "text": [
      "Expected Sentiment is : 2 predict_y with probability of 0.47\n",
      "'아직 살아있네!'...골 냄새 맡은 호날두, 순간 스피드 '32.5km/h' \n",
      "\n",
      " None\n",
      "Expected Sentiment is : 0 predict_y with probability of 0.68\n",
      "'90% 출전' 붙박이 주전 MF, 맨유 감독 교체 후 선발 제외 \n",
      "\n",
      " None\n",
      "Expected Sentiment is : 0 predict_y with probability of 0.69\n",
      "\"메시는 숲의 할아버지, WC서 벤치\" 前 폴란드대표팀 감독 감 떨어진 것 아냐? \n",
      "\n",
      " None\n",
      "Expected Sentiment is : 2 predict_y with probability of 0.92\n",
      "[오피셜] 맨유, 랑닉 사단으로 변신...수석코치 샤프 등 3명 선임 \n",
      "\n",
      " None\n",
      "Expected Sentiment is : 1 predict_y with probability of 0.43\n",
      "“좋은 스쿼드야! 2부 리그에선” 팬들 분노…아스널 21-22 시즌 라인업 \n",
      "\n",
      " None\n"
     ]
    }
   ],
   "source": [
    "randomtitle=dataset.reset_index(drop=True)['Title'][np.random.randint(0,len(dataset),5)]\n",
    "for i in randomtitle:\n",
    "    print(i,'\\n\\n',predict(i))"
   ]
  },
  {
   "cell_type": "code",
   "execution_count": 212,
   "id": "3e5839cc",
   "metadata": {
    "ExecuteTime": {
     "end_time": "2022-06-01T08:51:16.237136Z",
     "start_time": "2022-06-01T08:51:15.403804Z"
    }
   },
   "outputs": [
    {
     "name": "stdout",
     "output_type": "stream",
     "text": [
      "Expected Sentiment is : 2 predict_y with probability of 0.51\n"
     ]
    }
   ],
   "source": [
    "predict('실축만 3번, 나이가 야속한 호날두')"
   ]
  },
  {
   "cell_type": "code",
   "execution_count": 13,
   "id": "762c5a60",
   "metadata": {
    "ExecuteTime": {
     "end_time": "2022-06-01T08:59:23.783785Z",
     "start_time": "2022-06-01T08:59:23.094474Z"
    },
    "scrolled": false
   },
   "outputs": [],
   "source": [
    "from transformers import AutoTokenizer, AutoModel\n",
    "from transformers import AdamW\n",
    "from transformers.optimization import get_cosine_schedule_with_warmup\n",
    "from transformers import BertModel\n",
    "from transformers import AutoTokenizer, AutoModelForMaskedLM\n",
    "from transformers import BertModel"
   ]
  },
  {
   "cell_type": "code",
   "execution_count": 14,
   "id": "1a2e7484",
   "metadata": {
    "ExecuteTime": {
     "end_time": "2022-06-01T08:59:23.814602Z",
     "start_time": "2022-06-01T08:59:23.786487Z"
    }
   },
   "outputs": [],
   "source": [
    "dataset.drop_duplicates(inplace=True)\n",
    "dataset['Emotion_Ratio']=0\n",
    "dataset.loc[dataset['Bad']==0,'Bad']=0.1 #Dealing with situation when there is no \"bad\" reaction\n",
    "dataset['Emotion_Ratio']=dataset['Good']/dataset['Bad']\n",
    "dataset.loc[dataset['Emotion_Ratio']>=2,'Emotion_Ratio']=2\n",
    "dataset.loc[(dataset['Emotion_Ratio'] < 2) & (dataset['Emotion_Ratio'] >=0.5),'Emotion_Ratio']=1\n",
    "dataset.loc[dataset['Emotion_Ratio'] < 0.5,'Emotion_Ratio']=0"
   ]
  },
  {
   "cell_type": "code",
   "execution_count": 15,
   "id": "ef1695c0",
   "metadata": {
    "ExecuteTime": {
     "end_time": "2022-06-01T08:59:25.256799Z",
     "start_time": "2022-06-01T08:59:25.244121Z"
    }
   },
   "outputs": [],
   "source": [
    "import tensorflow"
   ]
  },
  {
   "cell_type": "code",
   "execution_count": 16,
   "id": "48e16226",
   "metadata": {
    "ExecuteTime": {
     "end_time": "2022-06-01T08:59:25.657545Z",
     "start_time": "2022-06-01T08:59:25.642532Z"
    }
   },
   "outputs": [],
   "source": [
    "dataset_shuffled = dataset.sample(frac=1).reset_index(drop=True)\n",
    "train = dataset_shuffled[:12000]\n",
    "test = dataset_shuffled[12000:] # Splitting train and test dataset"
   ]
  },
  {
   "cell_type": "code",
   "execution_count": 17,
   "id": "0a230a0a",
   "metadata": {
    "ExecuteTime": {
     "end_time": "2022-06-01T08:59:26.869560Z",
     "start_time": "2022-06-01T08:59:26.841016Z"
    }
   },
   "outputs": [],
   "source": [
    "sentences = [\"[CLS] \" + str(s) + \" [SEP]\" for s in train.Title]"
   ]
  },
  {
   "cell_type": "code",
   "execution_count": 18,
   "id": "f8abcd67",
   "metadata": {
    "ExecuteTime": {
     "end_time": "2022-06-01T08:59:27.149544Z",
     "start_time": "2022-06-01T08:59:27.133455Z"
    }
   },
   "outputs": [],
   "source": [
    "labels=tensorflow.keras.utils.to_categorical(train['Emotion_Ratio'].values)"
   ]
  },
  {
   "cell_type": "code",
   "execution_count": 19,
   "id": "19a7b8a0",
   "metadata": {
    "ExecuteTime": {
     "end_time": "2022-06-01T08:59:38.600603Z",
     "start_time": "2022-06-01T08:59:27.442303Z"
    }
   },
   "outputs": [],
   "source": [
    "import pandas as pd\n",
    "from transformers import BertTokenizer\n",
    "\n",
    "tokenizer = BertTokenizer.from_pretrained(\"bert-base-multilingual-cased\", do_lower_case=False)\n",
    "tokenized_texts = [tokenizer.tokenize(s) for s in sentences] #Use pretrained bert for tokenizing"
   ]
  },
  {
   "cell_type": "code",
   "execution_count": 20,
   "id": "f8c383cf",
   "metadata": {
    "ExecuteTime": {
     "end_time": "2022-06-01T08:59:39.050440Z",
     "start_time": "2022-06-01T08:59:38.603038Z"
    }
   },
   "outputs": [],
   "source": [
    "from tensorflow.keras.preprocessing.sequence import pad_sequences\n",
    "\n",
    "MAX_LEN = 11\n",
    "input_ids = [tokenizer.convert_tokens_to_ids(x) for x in tokenized_texts]\n",
    "\n",
    "input_ids = pad_sequences(input_ids, maxlen=MAX_LEN, dtype=\"long\", truncating=\"post\", padding=\"post\")"
   ]
  },
  {
   "cell_type": "code",
   "execution_count": 24,
   "id": "639a9f6d",
   "metadata": {
    "ExecuteTime": {
     "end_time": "2022-06-01T08:59:48.854342Z",
     "start_time": "2022-06-01T08:59:48.746468Z"
    }
   },
   "outputs": [],
   "source": [
    "attention_masks = []\n",
    "\n",
    "for seq in input_ids:\n",
    "    seq_mask = [float(i>0) for i in seq]\n",
    "    attention_masks.append(seq_mask)"
   ]
  },
  {
   "cell_type": "code",
   "execution_count": 28,
   "id": "4f1cd626",
   "metadata": {
    "ExecuteTime": {
     "end_time": "2022-06-01T09:00:07.407304Z",
     "start_time": "2022-06-01T09:00:07.393433Z"
    }
   },
   "outputs": [],
   "source": [
    "train_inputs, validation_inputs, train_labels, validation_labels = train_test_split(input_ids,\n",
    "                                                                                    labels, \n",
    "                                                                                    random_state=2000, \n",
    "                                                                                    test_size=0.2)"
   ]
  },
  {
   "cell_type": "code",
   "execution_count": 29,
   "id": "1b00dd2b",
   "metadata": {
    "ExecuteTime": {
     "end_time": "2022-06-01T09:00:08.115177Z",
     "start_time": "2022-06-01T09:00:08.103387Z"
    }
   },
   "outputs": [],
   "source": [
    "train_masks, validation_masks, _, _ = train_test_split(attention_masks, \n",
    "                                                       input_ids,\n",
    "                                                       random_state=2000, \n",
    "                                                       test_size=0.2)  "
   ]
  },
  {
   "cell_type": "code",
   "execution_count": 30,
   "id": "4a65e1c2",
   "metadata": {
    "ExecuteTime": {
     "end_time": "2022-06-01T09:00:08.577638Z",
     "start_time": "2022-06-01T09:00:08.554459Z"
    }
   },
   "outputs": [],
   "source": [
    "train_inputs = torch.tensor(train_inputs)\n",
    "train_labels = torch.tensor(train_labels)\n",
    "train_masks = torch.tensor(train_masks)\n",
    "validation_inputs = torch.tensor(validation_inputs)\n",
    "validation_labels = torch.tensor(validation_labels)\n",
    "validation_masks = torch.tensor(validation_masks)  "
   ]
  },
  {
   "cell_type": "code",
   "execution_count": 31,
   "id": "556f8fe7",
   "metadata": {
    "ExecuteTime": {
     "end_time": "2022-06-01T09:00:10.498516Z",
     "start_time": "2022-06-01T09:00:10.488969Z"
    }
   },
   "outputs": [],
   "source": [
    "batch_size = 32\n",
    "\n",
    "train_data = TensorDataset(train_inputs, train_masks, train_labels)\n",
    "train_sampler = torch.utils.data.RandomSampler(train_data)\n",
    "train_dataloader = DataLoader(train_data, sampler=train_sampler, batch_size=batch_size)\n",
    "\n",
    "validation_data = TensorDataset(validation_inputs, validation_masks, validation_labels)\n",
    "validation_sampler = torch.utils.data.SequentialSampler(validation_data)\n",
    "validation_dataloader = DataLoader(validation_data, sampler=validation_sampler, batch_size=batch_size)"
   ]
  },
  {
   "cell_type": "code",
   "execution_count": 32,
   "id": "38bebb3c",
   "metadata": {
    "ExecuteTime": {
     "end_time": "2022-06-01T09:00:17.798184Z",
     "start_time": "2022-06-01T09:00:11.770441Z"
    }
   },
   "outputs": [],
   "source": [
    "sentences = [\"[CLS] \" + str(s) + \" [SEP]\" for s in test.Title]\n",
    "\n",
    "# 라벨 데이터\n",
    "labels = tensorflow.keras.utils.to_categorical(test['Emotion_Ratio'])\n",
    "\n",
    "# Word 토크나이저 토큰화\n",
    "tokenizer = BertTokenizer.from_pretrained('bert-base-multilingual-cased', do_lower_case=False)\n",
    "tokenized_texts = [tokenizer.tokenize(sent) for sent in sentences]\n",
    "\n",
    "# 시퀀스 설정 및 정수 인덱스 변환 & 패딩\n",
    "MAX_LEN = 11\n",
    "input_ids = [tokenizer.convert_tokens_to_ids(x) for x in tokenized_texts]\n",
    "input_ids = pad_sequences(input_ids, maxlen=MAX_LEN, dtype=\"long\", truncating=\"post\", padding=\"post\")\n",
    "\n",
    "# 어텐션 마스크\n",
    "attention_masks = []\n",
    "for seq in input_ids:\n",
    "    seq_mask = [float(i>0) for i in seq]\n",
    "    attention_masks.append(seq_mask)\n",
    "    \n",
    "# 파이토치 텐서로 변환\n",
    "test_inputs = torch.tensor(input_ids)\n",
    "test_labels = torch.tensor(labels)\n",
    "test_masks = torch.tensor(attention_masks)\n",
    "\n",
    "# 배치 사이즈 설정 및 데이터 설정\n",
    "batch_size = 32\n",
    "test_data = TensorDataset(test_inputs, test_masks, test_labels)\n",
    "test_sampler = torch.utils.data.RandomSampler(test_data)\n",
    "test_dataloader = DataLoader(test_data, sampler=test_sampler, batch_size=batch_size)"
   ]
  },
  {
   "cell_type": "code",
   "execution_count": 33,
   "id": "3dd7dd1e",
   "metadata": {
    "ExecuteTime": {
     "end_time": "2022-06-01T09:00:22.581982Z",
     "start_time": "2022-06-01T09:00:17.800685Z"
    }
   },
   "outputs": [
    {
     "name": "stderr",
     "output_type": "stream",
     "text": [
      "Some weights of the model checkpoint at bert-base-multilingual-cased were not used when initializing BertForSequenceClassification: ['cls.seq_relationship.bias', 'cls.predictions.transform.LayerNorm.bias', 'cls.predictions.transform.dense.bias', 'cls.predictions.transform.LayerNorm.weight', 'cls.predictions.transform.dense.weight', 'cls.seq_relationship.weight', 'cls.predictions.decoder.weight', 'cls.predictions.bias']\n",
      "- This IS expected if you are initializing BertForSequenceClassification from the checkpoint of a model trained on another task or with another architecture (e.g. initializing a BertForSequenceClassification model from a BertForPreTraining model).\n",
      "- This IS NOT expected if you are initializing BertForSequenceClassification from the checkpoint of a model that you expect to be exactly identical (initializing a BertForSequenceClassification model from a BertForSequenceClassification model).\n",
      "Some weights of BertForSequenceClassification were not initialized from the model checkpoint at bert-base-multilingual-cased and are newly initialized: ['classifier.weight', 'classifier.bias']\n",
      "You should probably TRAIN this model on a down-stream task to be able to use it for predictions and inference.\n"
     ]
    }
   ],
   "source": [
    "from transformers import BertTokenizer\n",
    "from transformers import BertForSequenceClassification, AdamW, BertConfig\n",
    "from transformers import get_linear_schedule_with_warmup\n",
    "\n",
    "model = BertForSequenceClassification.from_pretrained(\"bert-base-multilingual-cased\", num_labels=3)"
   ]
  },
  {
   "cell_type": "code",
   "execution_count": 34,
   "id": "213a3117",
   "metadata": {
    "ExecuteTime": {
     "end_time": "2022-06-01T09:00:22.597528Z",
     "start_time": "2022-06-01T09:00:22.583976Z"
    }
   },
   "outputs": [],
   "source": [
    "optimizer = torch.optim.AdamW(model.parameters(),\n",
    "                  lr = 2e-5, # 학습률(learning rate)\n",
    "                  eps = 1e-8,weight_decay=0.0001\n",
    "                )\n",
    "\n",
    "# 에폭수\n",
    "epochs = 20\n",
    "\n",
    "# 총 훈련 스텝 : 배치반복 횟수 * 에폭\n",
    "total_steps = len(train_dataloader) * epochs\n",
    "\n",
    "# 스케줄러 생성\n",
    "scheduler = get_linear_schedule_with_warmup(optimizer, \n",
    "                                            num_warmup_steps = 0,\n",
    "                                            num_training_steps = total_steps)"
   ]
  },
  {
   "cell_type": "code",
   "execution_count": 35,
   "id": "c56ec246",
   "metadata": {
    "ExecuteTime": {
     "end_time": "2022-06-01T09:00:22.612520Z",
     "start_time": "2022-06-01T09:00:22.600471Z"
    }
   },
   "outputs": [],
   "source": [
    "def flat_accuracy(preds, labels):\n",
    "    \n",
    "    pred_flat = torch.argmax(preds, axis=1).flatten()\n",
    "    labels_flat = torch.argmax(labels,axis=1)\n",
    "\n",
    "    return torch.sum(pred_flat == labels_flat) / len(labels_flat)\n",
    "    \n",
    "criterion = torch.nn.CrossEntropyLoss() # 분류\n"
   ]
  },
  {
   "cell_type": "code",
   "execution_count": 36,
   "id": "c895cfbf",
   "metadata": {
    "ExecuteTime": {
     "end_time": "2022-06-01T09:00:24.077732Z",
     "start_time": "2022-06-01T09:00:22.614471Z"
    }
   },
   "outputs": [],
   "source": [
    "model=model.to(device)"
   ]
  },
  {
   "cell_type": "code",
   "execution_count": 37,
   "id": "29826807",
   "metadata": {
    "ExecuteTime": {
     "end_time": "2022-06-01T09:00:32.362197Z",
     "start_time": "2022-06-01T09:00:29.027171Z"
    },
    "scrolled": true
   },
   "outputs": [
    {
     "name": "stderr",
     "output_type": "stream",
     "text": [
      "\r",
      "  0%|          | 0/20 [00:00<?, ?it/s]"
     ]
    },
    {
     "name": "stdout",
     "output_type": "stream",
     "text": [
      "\n",
      "======== Epoch 1 / 20 ========\n",
      "Training...\n"
     ]
    },
    {
     "name": "stderr",
     "output_type": "stream",
     "text": [
      "\n",
      "  0%|          | 0/300 [00:02<?, ?it/s]\u001b[A\n",
      "  0%|          | 0/20 [00:02<?, ?it/s]\n"
     ]
    },
    {
     "ename": "RuntimeError",
     "evalue": "CUDA out of memory. Tried to allocate 352.00 MiB (GPU 0; 2.00 GiB total capacity; 1014.13 MiB already allocated; 156.50 MiB free; 1.07 GiB reserved in total by PyTorch) If reserved memory is >> allocated memory try setting max_split_size_mb to avoid fragmentation.  See documentation for Memory Management and PYTORCH_CUDA_ALLOC_CONF",
     "output_type": "error",
     "traceback": [
      "\u001b[1;31m---------------------------------------------------------------------------\u001b[0m",
      "\u001b[1;31mRuntimeError\u001b[0m                              Traceback (most recent call last)",
      "Input \u001b[1;32mIn [37]\u001b[0m, in \u001b[0;36m<cell line: 8>\u001b[1;34m()\u001b[0m\n\u001b[0;32m     46\u001b[0m total_loss \u001b[38;5;241m+\u001b[39m\u001b[38;5;241m=\u001b[39m loss\u001b[38;5;241m.\u001b[39mitem()\n\u001b[0;32m     48\u001b[0m \u001b[38;5;66;03m# Backward 수행으로 그래디언트 계산\u001b[39;00m\n\u001b[1;32m---> 49\u001b[0m \u001b[43mloss\u001b[49m\u001b[38;5;241;43m.\u001b[39;49m\u001b[43mbackward\u001b[49m\u001b[43m(\u001b[49m\u001b[43m)\u001b[49m\n\u001b[0;32m     51\u001b[0m \u001b[38;5;66;03m# 그래디언트 클리핑\u001b[39;00m\n\u001b[0;32m     52\u001b[0m torch\u001b[38;5;241m.\u001b[39mnn\u001b[38;5;241m.\u001b[39mutils\u001b[38;5;241m.\u001b[39mclip_grad_norm_(model\u001b[38;5;241m.\u001b[39mparameters(), \u001b[38;5;241m1.0\u001b[39m)\n",
      "File \u001b[1;32m~\\anaconda3\\envs\\py\\lib\\site-packages\\torch\\_tensor.py:363\u001b[0m, in \u001b[0;36mTensor.backward\u001b[1;34m(self, gradient, retain_graph, create_graph, inputs)\u001b[0m\n\u001b[0;32m    354\u001b[0m \u001b[38;5;28;01mif\u001b[39;00m has_torch_function_unary(\u001b[38;5;28mself\u001b[39m):\n\u001b[0;32m    355\u001b[0m     \u001b[38;5;28;01mreturn\u001b[39;00m handle_torch_function(\n\u001b[0;32m    356\u001b[0m         Tensor\u001b[38;5;241m.\u001b[39mbackward,\n\u001b[0;32m    357\u001b[0m         (\u001b[38;5;28mself\u001b[39m,),\n\u001b[1;32m   (...)\u001b[0m\n\u001b[0;32m    361\u001b[0m         create_graph\u001b[38;5;241m=\u001b[39mcreate_graph,\n\u001b[0;32m    362\u001b[0m         inputs\u001b[38;5;241m=\u001b[39minputs)\n\u001b[1;32m--> 363\u001b[0m \u001b[43mtorch\u001b[49m\u001b[38;5;241;43m.\u001b[39;49m\u001b[43mautograd\u001b[49m\u001b[38;5;241;43m.\u001b[39;49m\u001b[43mbackward\u001b[49m\u001b[43m(\u001b[49m\u001b[38;5;28;43mself\u001b[39;49m\u001b[43m,\u001b[49m\u001b[43m \u001b[49m\u001b[43mgradient\u001b[49m\u001b[43m,\u001b[49m\u001b[43m \u001b[49m\u001b[43mretain_graph\u001b[49m\u001b[43m,\u001b[49m\u001b[43m \u001b[49m\u001b[43mcreate_graph\u001b[49m\u001b[43m,\u001b[49m\u001b[43m \u001b[49m\u001b[43minputs\u001b[49m\u001b[38;5;241;43m=\u001b[39;49m\u001b[43minputs\u001b[49m\u001b[43m)\u001b[49m\n",
      "File \u001b[1;32m~\\anaconda3\\envs\\py\\lib\\site-packages\\torch\\autograd\\__init__.py:173\u001b[0m, in \u001b[0;36mbackward\u001b[1;34m(tensors, grad_tensors, retain_graph, create_graph, grad_variables, inputs)\u001b[0m\n\u001b[0;32m    168\u001b[0m     retain_graph \u001b[38;5;241m=\u001b[39m create_graph\n\u001b[0;32m    170\u001b[0m \u001b[38;5;66;03m# The reason we repeat same the comment below is that\u001b[39;00m\n\u001b[0;32m    171\u001b[0m \u001b[38;5;66;03m# some Python versions print out the first line of a multi-line function\u001b[39;00m\n\u001b[0;32m    172\u001b[0m \u001b[38;5;66;03m# calls in the traceback and some print out the last line\u001b[39;00m\n\u001b[1;32m--> 173\u001b[0m \u001b[43mVariable\u001b[49m\u001b[38;5;241;43m.\u001b[39;49m\u001b[43m_execution_engine\u001b[49m\u001b[38;5;241;43m.\u001b[39;49m\u001b[43mrun_backward\u001b[49m\u001b[43m(\u001b[49m\u001b[43m  \u001b[49m\u001b[38;5;66;43;03m# Calls into the C++ engine to run the backward pass\u001b[39;49;00m\n\u001b[0;32m    174\u001b[0m \u001b[43m    \u001b[49m\u001b[43mtensors\u001b[49m\u001b[43m,\u001b[49m\u001b[43m \u001b[49m\u001b[43mgrad_tensors_\u001b[49m\u001b[43m,\u001b[49m\u001b[43m \u001b[49m\u001b[43mretain_graph\u001b[49m\u001b[43m,\u001b[49m\u001b[43m \u001b[49m\u001b[43mcreate_graph\u001b[49m\u001b[43m,\u001b[49m\u001b[43m \u001b[49m\u001b[43minputs\u001b[49m\u001b[43m,\u001b[49m\n\u001b[0;32m    175\u001b[0m \u001b[43m    \u001b[49m\u001b[43mallow_unreachable\u001b[49m\u001b[38;5;241;43m=\u001b[39;49m\u001b[38;5;28;43;01mTrue\u001b[39;49;00m\u001b[43m,\u001b[49m\u001b[43m \u001b[49m\u001b[43maccumulate_grad\u001b[49m\u001b[38;5;241;43m=\u001b[39;49m\u001b[38;5;28;43;01mTrue\u001b[39;49;00m\u001b[43m)\u001b[49m\n",
      "\u001b[1;31mRuntimeError\u001b[0m: CUDA out of memory. Tried to allocate 352.00 MiB (GPU 0; 2.00 GiB total capacity; 1014.13 MiB already allocated; 156.50 MiB free; 1.07 GiB reserved in total by PyTorch) If reserved memory is >> allocated memory try setting max_split_size_mb to avoid fragmentation.  See documentation for Memory Management and PYTORCH_CUDA_ALLOC_CONF"
     ]
    }
   ],
   "source": [
    "train_acc_list=[]\n",
    "val_acc_list=[]\n",
    "model.zero_grad()\n",
    "best_acc=0\n",
    "total_loss_list=[]\n",
    "total_loss_val_list=[]\n",
    "# 학습\n",
    "for epoch_i in tqdm(range(0, epochs)):\n",
    "    \n",
    "    # ========================================\n",
    "    #               Training\n",
    "    # ========================================\n",
    "    \n",
    "    print(\"\")\n",
    "    print('======== Epoch {:} / {:} ========'.format(epoch_i + 1, epochs))\n",
    "    print('Training...')\n",
    "\n",
    "    # 로스 초기화\n",
    "    total_loss = 0\n",
    "    total_loss_val=0\n",
    "    # 훈련모드로 변경\n",
    "    model.train()\n",
    "    train_acc=0\n",
    "    val_acc=0\n",
    "\n",
    "    # 데이터로더에서 배치만큼 반복하여 가져옴\n",
    "    for step, batch in enumerate(tqdm(train_dataloader)):\n",
    "        # 경과 정보 표시\n",
    "\n",
    "        # 배치를 GPU에 넣음\n",
    "        batch = tuple(t.to(device) for t in batch)\n",
    "        \n",
    "        # 배치에서 데이터 추출\n",
    "        b_input_ids, b_input_mask, b_labels = batch\n",
    "        \n",
    "        # Forward 수행                \n",
    "        outputs = model(b_input_ids, \n",
    "                        token_type_ids=None, \n",
    "                        attention_mask=b_input_mask, \n",
    "                        labels=b_labels).logits\n",
    "        \n",
    "        # 로스 구함\n",
    "        loss = criterion(outputs,b_labels)\n",
    "\n",
    "        # 총 로스 계산\n",
    "        total_loss += loss.item()\n",
    "\n",
    "        # Backward 수행으로 그래디언트 계산\n",
    "        loss.backward()\n",
    "\n",
    "        # 그래디언트 클리핑\n",
    "        torch.nn.utils.clip_grad_norm_(model.parameters(), 1.0)\n",
    "\n",
    "        # 그래디언트를 통해 가중치 파라미터 업데이트\n",
    "        optimizer.step()\n",
    "\n",
    "        # 스케줄러로 학습률 감소\n",
    "        scheduler.step()\n",
    "\n",
    "        # 그래디언트 초기화\n",
    "        model.zero_grad()\n",
    "        train_acc+=flat_accuracy(outputs,b_labels).item()\n",
    "        \n",
    "    train_acc_list.append(train_acc/len(train_dataloader))\n",
    "        \n",
    "    # 평균 로스 계산\n",
    "    avg_train_loss = total_loss / len(train_dataloader)            \n",
    "    total_loss_list.append(avg_train_loss)\n",
    "    print(\"\")\n",
    "    print(\"  Average training loss: {0:.2f}\".format(avg_train_loss))\n",
    "        \n",
    "    # ========================================\n",
    "    #               Validation\n",
    "    # ========================================\n",
    "\n",
    "    print(\"\")\n",
    "    print(\"Running Validation...\")\n",
    "\n",
    "    #시작 시간 설정\n",
    "\n",
    "    # 평가모드로 변경\n",
    "    model.eval()\n",
    "\n",
    "    # 변수 초기화\n",
    "    eval_loss, eval_accuracy = 0, 0\n",
    "    nb_eval_steps, nb_eval_examples = 0, 0\n",
    "\n",
    "    # 데이터로더에서 배치만큼 반복하여 가져옴\n",
    "    for batch in validation_dataloader:\n",
    "        # 배치를 GPU에 넣음\n",
    "        batch = tuple(t.to(device) for t in batch)\n",
    "        \n",
    "        # 배치에서 데이터 추출\n",
    "        b_input_ids, b_input_mask, b_labels = batch\n",
    "        \n",
    "        # 그래디언트 계산 안함\n",
    "        with torch.no_grad():     \n",
    "            # Forward 수행\n",
    "            outputs = model(b_input_ids, \n",
    "                            token_type_ids=None, \n",
    "                            attention_mask=b_input_mask).logits\n",
    "        \n",
    "        # 로스 구함\n",
    "        loss = criterion(outputs,b_labels)\n",
    "        total_loss_val += loss.item()\n",
    "        val_acc+=flat_accuracy(outputs,b_labels).item()\n",
    "        \n",
    "    avg_val_loss = total_loss_val / len(validation_dataloader)            \n",
    "    total_loss_val_list.append(avg_val_loss)\n",
    "    print(\"\")\n",
    "    print(\"  Average validation loss: {0:.2f}\".format(avg_val_loss))\n",
    "    \n",
    "    val_acc_save=val_acc/len(validation_dataloader)\n",
    "    val_acc_list.append(val_acc_save)\n",
    "        \n",
    "    \n",
    "    if best_acc < val_acc_save:\n",
    "        best_acc = val_acc_save\n",
    "        print('Best Accuracy is: ', best_acc)\n",
    "        torch.save(model.state_dict(),'C:/Users/icako/NewsCrawler/best_model_BERT.pth')\n",
    "        print('Model Saved.')\n",
    "        \n",
    "print(\"\")\n",
    "print(\"Training complete!\")"
   ]
  },
  {
   "cell_type": "code",
   "execution_count": 41,
   "id": "a4db3060",
   "metadata": {
    "ExecuteTime": {
     "end_time": "2022-06-01T09:01:16.867314Z",
     "start_time": "2022-06-01T09:01:16.145329Z"
    }
   },
   "outputs": [
    {
     "ename": "RuntimeError",
     "evalue": "CUDA out of memory. Tried to allocate 352.00 MiB (GPU 0; 2.00 GiB total capacity; 1013.02 MiB already allocated; 156.50 MiB free; 1.07 GiB reserved in total by PyTorch) If reserved memory is >> allocated memory try setting max_split_size_mb to avoid fragmentation.  See documentation for Memory Management and PYTORCH_CUDA_ALLOC_CONF",
     "output_type": "error",
     "traceback": [
      "\u001b[1;31m---------------------------------------------------------------------------\u001b[0m",
      "\u001b[1;31mRuntimeError\u001b[0m                              Traceback (most recent call last)",
      "Input \u001b[1;32mIn [41]\u001b[0m, in \u001b[0;36m<cell line: 1>\u001b[1;34m()\u001b[0m\n\u001b[1;32m----> 1\u001b[0m checkpoint\u001b[38;5;241m=\u001b[39m\u001b[43mtorch\u001b[49m\u001b[38;5;241;43m.\u001b[39;49m\u001b[43mload\u001b[49m\u001b[43m(\u001b[49m\u001b[38;5;124;43m'\u001b[39;49m\u001b[38;5;124;43mC:/Users/icako/NewsCrawler/best_model_BERT.pth\u001b[39;49m\u001b[38;5;124;43m'\u001b[39;49m\u001b[43m)\u001b[49m \u001b[38;5;66;03m# Load the best model\u001b[39;00m\n\u001b[0;32m      2\u001b[0m model\u001b[38;5;241m.\u001b[39mload_state_dict(checkpoint) \n\u001b[0;32m      3\u001b[0m model\u001b[38;5;241m.\u001b[39meval()\n",
      "File \u001b[1;32m~\\anaconda3\\envs\\py\\lib\\site-packages\\torch\\serialization.py:712\u001b[0m, in \u001b[0;36mload\u001b[1;34m(f, map_location, pickle_module, **pickle_load_args)\u001b[0m\n\u001b[0;32m    710\u001b[0m             opened_file\u001b[38;5;241m.\u001b[39mseek(orig_position)\n\u001b[0;32m    711\u001b[0m             \u001b[38;5;28;01mreturn\u001b[39;00m torch\u001b[38;5;241m.\u001b[39mjit\u001b[38;5;241m.\u001b[39mload(opened_file)\n\u001b[1;32m--> 712\u001b[0m         \u001b[38;5;28;01mreturn\u001b[39;00m \u001b[43m_load\u001b[49m\u001b[43m(\u001b[49m\u001b[43mopened_zipfile\u001b[49m\u001b[43m,\u001b[49m\u001b[43m \u001b[49m\u001b[43mmap_location\u001b[49m\u001b[43m,\u001b[49m\u001b[43m \u001b[49m\u001b[43mpickle_module\u001b[49m\u001b[43m,\u001b[49m\u001b[43m \u001b[49m\u001b[38;5;241;43m*\u001b[39;49m\u001b[38;5;241;43m*\u001b[39;49m\u001b[43mpickle_load_args\u001b[49m\u001b[43m)\u001b[49m\n\u001b[0;32m    713\u001b[0m \u001b[38;5;28;01mreturn\u001b[39;00m _legacy_load(opened_file, map_location, pickle_module, \u001b[38;5;241m*\u001b[39m\u001b[38;5;241m*\u001b[39mpickle_load_args)\n",
      "File \u001b[1;32m~\\anaconda3\\envs\\py\\lib\\site-packages\\torch\\serialization.py:1046\u001b[0m, in \u001b[0;36m_load\u001b[1;34m(zip_file, map_location, pickle_module, pickle_file, **pickle_load_args)\u001b[0m\n\u001b[0;32m   1044\u001b[0m unpickler \u001b[38;5;241m=\u001b[39m UnpicklerWrapper(data_file, \u001b[38;5;241m*\u001b[39m\u001b[38;5;241m*\u001b[39mpickle_load_args)\n\u001b[0;32m   1045\u001b[0m unpickler\u001b[38;5;241m.\u001b[39mpersistent_load \u001b[38;5;241m=\u001b[39m persistent_load\n\u001b[1;32m-> 1046\u001b[0m result \u001b[38;5;241m=\u001b[39m \u001b[43munpickler\u001b[49m\u001b[38;5;241;43m.\u001b[39;49m\u001b[43mload\u001b[49m\u001b[43m(\u001b[49m\u001b[43m)\u001b[49m\n\u001b[0;32m   1048\u001b[0m torch\u001b[38;5;241m.\u001b[39m_utils\u001b[38;5;241m.\u001b[39m_validate_loaded_sparse_tensors()\n\u001b[0;32m   1050\u001b[0m \u001b[38;5;28;01mreturn\u001b[39;00m result\n",
      "File \u001b[1;32m~\\anaconda3\\envs\\py\\lib\\site-packages\\torch\\serialization.py:1016\u001b[0m, in \u001b[0;36m_load.<locals>.persistent_load\u001b[1;34m(saved_id)\u001b[0m\n\u001b[0;32m   1014\u001b[0m \u001b[38;5;28;01mif\u001b[39;00m key \u001b[38;5;129;01mnot\u001b[39;00m \u001b[38;5;129;01min\u001b[39;00m loaded_storages:\n\u001b[0;32m   1015\u001b[0m     nbytes \u001b[38;5;241m=\u001b[39m numel \u001b[38;5;241m*\u001b[39m torch\u001b[38;5;241m.\u001b[39m_utils\u001b[38;5;241m.\u001b[39m_element_size(dtype)\n\u001b[1;32m-> 1016\u001b[0m     \u001b[43mload_tensor\u001b[49m\u001b[43m(\u001b[49m\u001b[43mdtype\u001b[49m\u001b[43m,\u001b[49m\u001b[43m \u001b[49m\u001b[43mnbytes\u001b[49m\u001b[43m,\u001b[49m\u001b[43m \u001b[49m\u001b[43mkey\u001b[49m\u001b[43m,\u001b[49m\u001b[43m \u001b[49m\u001b[43m_maybe_decode_ascii\u001b[49m\u001b[43m(\u001b[49m\u001b[43mlocation\u001b[49m\u001b[43m)\u001b[49m\u001b[43m)\u001b[49m\n\u001b[0;32m   1018\u001b[0m \u001b[38;5;28;01mreturn\u001b[39;00m loaded_storages[key]\n",
      "File \u001b[1;32m~\\anaconda3\\envs\\py\\lib\\site-packages\\torch\\serialization.py:1001\u001b[0m, in \u001b[0;36m_load.<locals>.load_tensor\u001b[1;34m(dtype, numel, key, location)\u001b[0m\n\u001b[0;32m    997\u001b[0m storage \u001b[38;5;241m=\u001b[39m zip_file\u001b[38;5;241m.\u001b[39mget_storage_from_record(name, numel, torch\u001b[38;5;241m.\u001b[39m_UntypedStorage)\u001b[38;5;241m.\u001b[39mstorage()\u001b[38;5;241m.\u001b[39m_untyped()\n\u001b[0;32m    998\u001b[0m \u001b[38;5;66;03m# TODO: Once we decide to break serialization FC, we can\u001b[39;00m\n\u001b[0;32m    999\u001b[0m \u001b[38;5;66;03m# stop wrapping with _TypedStorage\u001b[39;00m\n\u001b[0;32m   1000\u001b[0m loaded_storages[key] \u001b[38;5;241m=\u001b[39m torch\u001b[38;5;241m.\u001b[39mstorage\u001b[38;5;241m.\u001b[39m_TypedStorage(\n\u001b[1;32m-> 1001\u001b[0m     wrap_storage\u001b[38;5;241m=\u001b[39m\u001b[43mrestore_location\u001b[49m\u001b[43m(\u001b[49m\u001b[43mstorage\u001b[49m\u001b[43m,\u001b[49m\u001b[43m \u001b[49m\u001b[43mlocation\u001b[49m\u001b[43m)\u001b[49m,\n\u001b[0;32m   1002\u001b[0m     dtype\u001b[38;5;241m=\u001b[39mdtype)\n",
      "File \u001b[1;32m~\\anaconda3\\envs\\py\\lib\\site-packages\\torch\\serialization.py:176\u001b[0m, in \u001b[0;36mdefault_restore_location\u001b[1;34m(storage, location)\u001b[0m\n\u001b[0;32m    174\u001b[0m \u001b[38;5;28;01mdef\u001b[39;00m \u001b[38;5;21mdefault_restore_location\u001b[39m(storage, location):\n\u001b[0;32m    175\u001b[0m     \u001b[38;5;28;01mfor\u001b[39;00m _, _, fn \u001b[38;5;129;01min\u001b[39;00m _package_registry:\n\u001b[1;32m--> 176\u001b[0m         result \u001b[38;5;241m=\u001b[39m \u001b[43mfn\u001b[49m\u001b[43m(\u001b[49m\u001b[43mstorage\u001b[49m\u001b[43m,\u001b[49m\u001b[43m \u001b[49m\u001b[43mlocation\u001b[49m\u001b[43m)\u001b[49m\n\u001b[0;32m    177\u001b[0m         \u001b[38;5;28;01mif\u001b[39;00m result \u001b[38;5;129;01mis\u001b[39;00m \u001b[38;5;129;01mnot\u001b[39;00m \u001b[38;5;28;01mNone\u001b[39;00m:\n\u001b[0;32m    178\u001b[0m             \u001b[38;5;28;01mreturn\u001b[39;00m result\n",
      "File \u001b[1;32m~\\anaconda3\\envs\\py\\lib\\site-packages\\torch\\serialization.py:158\u001b[0m, in \u001b[0;36m_cuda_deserialize\u001b[1;34m(obj, location)\u001b[0m\n\u001b[0;32m    156\u001b[0m         \u001b[38;5;28;01mreturn\u001b[39;00m storage_type(obj\u001b[38;5;241m.\u001b[39mnbytes())\n\u001b[0;32m    157\u001b[0m \u001b[38;5;28;01melse\u001b[39;00m:\n\u001b[1;32m--> 158\u001b[0m     \u001b[38;5;28;01mreturn\u001b[39;00m \u001b[43mobj\u001b[49m\u001b[38;5;241;43m.\u001b[39;49m\u001b[43mcuda\u001b[49m\u001b[43m(\u001b[49m\u001b[43mdevice\u001b[49m\u001b[43m)\u001b[49m\n",
      "File \u001b[1;32m~\\anaconda3\\envs\\py\\lib\\site-packages\\torch\\_utils.py:79\u001b[0m, in \u001b[0;36m_cuda\u001b[1;34m(self, device, non_blocking, **kwargs)\u001b[0m\n\u001b[0;32m     77\u001b[0m \u001b[38;5;28;01melse\u001b[39;00m:\n\u001b[0;32m     78\u001b[0m     new_type \u001b[38;5;241m=\u001b[39m \u001b[38;5;28mgetattr\u001b[39m(torch\u001b[38;5;241m.\u001b[39mcuda, \u001b[38;5;28mself\u001b[39m\u001b[38;5;241m.\u001b[39m\u001b[38;5;18m__class__\u001b[39m\u001b[38;5;241m.\u001b[39m\u001b[38;5;18m__name__\u001b[39m)\n\u001b[1;32m---> 79\u001b[0m     \u001b[38;5;28;01mreturn\u001b[39;00m \u001b[43mnew_type\u001b[49m\u001b[43m(\u001b[49m\u001b[38;5;28;43mself\u001b[39;49m\u001b[38;5;241;43m.\u001b[39;49m\u001b[43msize\u001b[49m\u001b[43m(\u001b[49m\u001b[43m)\u001b[49m\u001b[43m)\u001b[49m\u001b[38;5;241m.\u001b[39mcopy_(\u001b[38;5;28mself\u001b[39m, non_blocking)\n",
      "File \u001b[1;32m~\\anaconda3\\envs\\py\\lib\\site-packages\\torch\\cuda\\__init__.py:661\u001b[0m, in \u001b[0;36m_lazy_new\u001b[1;34m(cls, *args, **kwargs)\u001b[0m\n\u001b[0;32m    658\u001b[0m _lazy_init()\n\u001b[0;32m    659\u001b[0m \u001b[38;5;66;03m# We may need to call lazy init again if we are a forked child\u001b[39;00m\n\u001b[0;32m    660\u001b[0m \u001b[38;5;66;03m# del _CudaBase.__new__\u001b[39;00m\n\u001b[1;32m--> 661\u001b[0m \u001b[38;5;28;01mreturn\u001b[39;00m \u001b[38;5;28;43msuper\u001b[39;49m\u001b[43m(\u001b[49m\u001b[43m_CudaBase\u001b[49m\u001b[43m,\u001b[49m\u001b[43m \u001b[49m\u001b[38;5;28;43mcls\u001b[39;49m\u001b[43m)\u001b[49m\u001b[38;5;241;43m.\u001b[39;49m\u001b[38;5;21;43m__new__\u001b[39;49m\u001b[43m(\u001b[49m\u001b[38;5;28;43mcls\u001b[39;49m\u001b[43m,\u001b[49m\u001b[43m \u001b[49m\u001b[38;5;241;43m*\u001b[39;49m\u001b[43margs\u001b[49m\u001b[43m,\u001b[49m\u001b[43m \u001b[49m\u001b[38;5;241;43m*\u001b[39;49m\u001b[38;5;241;43m*\u001b[39;49m\u001b[43mkwargs\u001b[49m\u001b[43m)\u001b[49m\n",
      "\u001b[1;31mRuntimeError\u001b[0m: CUDA out of memory. Tried to allocate 352.00 MiB (GPU 0; 2.00 GiB total capacity; 1013.02 MiB already allocated; 156.50 MiB free; 1.07 GiB reserved in total by PyTorch) If reserved memory is >> allocated memory try setting max_split_size_mb to avoid fragmentation.  See documentation for Memory Management and PYTORCH_CUDA_ALLOC_CONF"
     ]
    }
   ],
   "source": [
    "checkpoint=torch.load('C:/Users/icako/NewsCrawler/best_model_BERT.pth') # Load the best model\n",
    "model.load_state_dict(checkpoint) \n",
    "model.eval() "
   ]
  },
  {
   "cell_type": "code",
   "execution_count": 40,
   "id": "24d0c1cd",
   "metadata": {
    "ExecuteTime": {
     "end_time": "2022-06-01T09:01:08.926527Z",
     "start_time": "2022-06-01T09:00:57.162316Z"
    }
   },
   "outputs": [
    {
     "name": "stderr",
     "output_type": "stream",
     "text": [
      "100%|██████████| 120/120 [00:11<00:00, 10.28it/s]"
     ]
    },
    {
     "name": "stdout",
     "output_type": "stream",
     "text": [
      "\n",
      "Accuracy: 0.28\n"
     ]
    },
    {
     "name": "stderr",
     "output_type": "stream",
     "text": [
      "\n"
     ]
    }
   ],
   "source": [
    "model.eval()\n",
    "\n",
    "# 변수 초기화\n",
    "eval_loss, eval_accuracy = 0, 0\n",
    "nb_eval_steps, nb_eval_examples = 0, 0\n",
    "\n",
    "# 데이터로더에서 배치만큼 반복하여 가져옴\n",
    "for step, batch in enumerate(tqdm(test_dataloader)):\n",
    "    # 경과 정보 표시\n",
    "\n",
    "    # 배치를 GPU에 넣음\n",
    "    batch = tuple(t.to(device) for t in batch)\n",
    "    \n",
    "    # 배치에서 데이터 추출\n",
    "    b_input_ids, b_input_mask, b_labels = batch\n",
    "    \n",
    "    # 그래디언트 계산 안함\n",
    "    with torch.no_grad():     \n",
    "        # Forward 수행\n",
    "        outputs = model(b_input_ids, \n",
    "                        token_type_ids=None, \n",
    "                        attention_mask=b_input_mask).logits\n",
    "    \n",
    "    # 로스 구함\n",
    "    loss += criterion(outputs,b_labels)\n",
    "\n",
    "    \n",
    "    # 출력 로짓과 라벨을 비교하여 정확도 계산\n",
    "    tmp_eval_accuracy = flat_accuracy(outputs, b_labels)\n",
    "    eval_accuracy += tmp_eval_accuracy\n",
    "    nb_eval_steps += 1\n",
    "\n",
    "\n",
    "print(\"\")\n",
    "print(\"Accuracy: {0:.2f}\".format(eval_accuracy/nb_eval_steps))\n",
    "\n",
    "loss_test=loss/len(test_dataloader)"
   ]
  }
 ],
 "metadata": {
  "kernelspec": {
   "display_name": "Python 3 (ipykernel)",
   "language": "python",
   "name": "python3"
  },
  "language_info": {
   "codemirror_mode": {
    "name": "ipython",
    "version": 3
   },
   "file_extension": ".py",
   "mimetype": "text/x-python",
   "name": "python",
   "nbconvert_exporter": "python",
   "pygments_lexer": "ipython3",
   "version": "3.8.13"
  },
  "toc": {
   "base_numbering": 1,
   "nav_menu": {},
   "number_sections": true,
   "sideBar": true,
   "skip_h1_title": false,
   "title_cell": "Table of Contents",
   "title_sidebar": "Contents",
   "toc_cell": false,
   "toc_position": {
    "height": "calc(100% - 180px)",
    "left": "10px",
    "top": "150px",
    "width": "278.339px"
   },
   "toc_section_display": true,
   "toc_window_display": false
  }
 },
 "nbformat": 4,
 "nbformat_minor": 5
}
